{
 "cells": [
  {
   "attachments": {},
   "cell_type": "markdown",
   "metadata": {},
   "source": [
    "# Working with test data"
   ]
  },
  {
   "cell_type": "code",
   "execution_count": 2,
   "metadata": {},
   "outputs": [
    {
     "name": "stderr",
     "output_type": "stream",
     "text": [
      "Found cached dataset imdb (/home/codespace/.cache/huggingface/datasets/imdb/plain_text/1.0.0/d613c88cf8fa3bab83b4ded3713f1f74830d1100e171db75bbddb80b3345c9c0)\n"
     ]
    },
    {
     "data": {
      "application/vnd.jupyter.widget-view+json": {
       "model_id": "b56ab7b923c5446a8a47e1ccfcb18305",
       "version_major": 2,
       "version_minor": 0
      },
      "text/plain": [
       "  0%|          | 0/3 [00:00<?, ?it/s]"
      ]
     },
     "metadata": {},
     "output_type": "display_data"
    }
   ],
   "source": [
    "!pip install -q datasets\n",
    "\n",
    "# import Hugging Face Dataset\n",
    "from datasets import load_dataset\n",
    "\n",
    "# load the dataset with text classification labels\n",
    "dataset = load_dataset('imdb')"
   ]
  },
  {
   "cell_type": "code",
   "execution_count": 3,
   "metadata": {},
   "outputs": [
    {
     "data": {
      "text/plain": [
       "{'text': 'I rented I AM CURIOUS-YELLOW from my video store because of all the controversy that surrounded it when it was first released in 1967. I also heard that at first it was seized by U.S. customs if it ever tried to enter this country, therefore being a fan of films considered \"controversial\" I really had to see this for myself.<br /><br />The plot is centered around a young Swedish drama student named Lena who wants to learn everything she can about life. In particular she wants to focus her attentions to making some sort of documentary on what the average Swede thought about certain political issues such as the Vietnam War and race issues in the United States. In between asking politicians and ordinary denizens of Stockholm about their opinions on politics, she has sex with her drama teacher, classmates, and married men.<br /><br />What kills me about I AM CURIOUS-YELLOW is that 40 years ago, this was considered pornographic. Really, the sex and nudity scenes are few and far between, even then it\\'s not shot like some cheaply made porno. While my countrymen mind find it shocking, in reality sex and nudity are a major staple in Swedish cinema. Even Ingmar Bergman, arguably their answer to good old boy John Ford, had sex scenes in his films.<br /><br />I do commend the filmmakers for the fact that any sex shown in the film is shown for artistic purposes rather than just to shock people and make money to be shown in pornographic theaters in America. I AM CURIOUS-YELLOW is a good film for anyone wanting to study the meat and potatoes (no pun intended) of Swedish cinema. But really, this film doesn\\'t have much of a plot.',\n",
       " 'label': 0}"
      ]
     },
     "execution_count": 3,
     "metadata": {},
     "output_type": "execute_result"
    }
   ],
   "source": [
    "# show the first example\n",
    "dataset['train'][0]"
   ]
  },
  {
   "cell_type": "code",
   "execution_count": 4,
   "metadata": {},
   "outputs": [
    {
     "data": {
      "text/plain": [
       "<Axes: ylabel='Count'>"
      ]
     },
     "execution_count": 4,
     "metadata": {},
     "output_type": "execute_result"
    },
    {
     "data": {
      "image/png": "[encoded data removed]",
      "text/plain": [
       "<Figure size 640x480 with 1 Axes>"
      ]
     },
     "metadata": {},
     "output_type": "display_data"
    }
   ],
   "source": [
    "import seaborn as sns\n",
    "\n",
    "# plot the distribution of the labels\n",
    "sns.histplot(dataset['train']['label'], bins=2)"
   ]
  },
  {
   "cell_type": "code",
   "execution_count": 5,
   "metadata": {},
   "outputs": [
    {
     "name": "stderr",
     "output_type": "stream",
     "text": [
      "Found cached dataset code_x_glue_ct_code_to_text (/home/codespace/.cache/huggingface/datasets/code_x_glue_ct_code_to_text/java/0.0.0/f8b7e9d51f609a87e7ec7c7431706d4ee0b402e3398560410313d4acc67060a0)\n"
     ]
    },
    {
     "data": {
      "text/plain": [
       "{'id': 0,\n",
       " 'repo': 'ReactiveX/RxJava',\n",
       " 'path': 'src/main/java/io/reactivex/internal/observers/QueueDrainObserver.java',\n",
       " 'func_name': 'QueueDrainObserver.fastPathOrderedEmit',\n",
       " 'original_string': 'protected final void fastPathOrderedEmit(U value, boolean delayError, Disposable disposable) {\\n        final Observer<? super V> observer = downstream;\\n        final SimplePlainQueue<U> q = queue;\\n\\n        if (wip.get() == 0 && wip.compareAndSet(0, 1)) {\\n            if (q.isEmpty()) {\\n                accept(observer, value);\\n                if (leave(-1) == 0) {\\n                    return;\\n                }\\n            } else {\\n                q.offer(value);\\n            }\\n        } else {\\n            q.offer(value);\\n            if (!enter()) {\\n                return;\\n            }\\n        }\\n        QueueDrainHelper.drainLoop(q, observer, delayError, disposable, this);\\n    }',\n",
       " 'language': 'java',\n",
       " 'code': 'protected final void fastPathOrderedEmit(U value, boolean delayError, Disposable disposable) {\\n        final Observer<? super V> observer = downstream;\\n        final SimplePlainQueue<U> q = queue;\\n\\n        if (wip.get() == 0 && wip.compareAndSet(0, 1)) {\\n            if (q.isEmpty()) {\\n                accept(observer, value);\\n                if (leave(-1) == 0) {\\n                    return;\\n                }\\n            } else {\\n                q.offer(value);\\n            }\\n        } else {\\n            q.offer(value);\\n            if (!enter()) {\\n                return;\\n            }\\n        }\\n        QueueDrainHelper.drainLoop(q, observer, delayError, disposable, this);\\n    }',\n",
       " 'code_tokens': ['protected',\n",
       "  'final',\n",
       "  'void',\n",
       "  'fastPathOrderedEmit',\n",
       "  '(',\n",
       "  'U',\n",
       "  'value',\n",
       "  ',',\n",
       "  'boolean',\n",
       "  'delayError',\n",
       "  ',',\n",
       "  'Disposable',\n",
       "  'disposable',\n",
       "  ')',\n",
       "  '{',\n",
       "  'final',\n",
       "  'Observer',\n",
       "  '<',\n",
       "  '?',\n",
       "  'super',\n",
       "  'V',\n",
       "  '>',\n",
       "  'observer',\n",
       "  '=',\n",
       "  'downstream',\n",
       "  ';',\n",
       "  'final',\n",
       "  'SimplePlainQueue',\n",
       "  '<',\n",
       "  'U',\n",
       "  '>',\n",
       "  'q',\n",
       "  '=',\n",
       "  'queue',\n",
       "  ';',\n",
       "  'if',\n",
       "  '(',\n",
       "  'wip',\n",
       "  '.',\n",
       "  'get',\n",
       "  '(',\n",
       "  ')',\n",
       "  '==',\n",
       "  '0',\n",
       "  '&&',\n",
       "  'wip',\n",
       "  '.',\n",
       "  'compareAndSet',\n",
       "  '(',\n",
       "  '0',\n",
       "  ',',\n",
       "  '1',\n",
       "  ')',\n",
       "  ')',\n",
       "  '{',\n",
       "  'if',\n",
       "  '(',\n",
       "  'q',\n",
       "  '.',\n",
       "  'isEmpty',\n",
       "  '(',\n",
       "  ')',\n",
       "  ')',\n",
       "  '{',\n",
       "  'accept',\n",
       "  '(',\n",
       "  'observer',\n",
       "  ',',\n",
       "  'value',\n",
       "  ')',\n",
       "  ';',\n",
       "  'if',\n",
       "  '(',\n",
       "  'leave',\n",
       "  '(',\n",
       "  '-',\n",
       "  '1',\n",
       "  ')',\n",
       "  '==',\n",
       "  '0',\n",
       "  ')',\n",
       "  '{',\n",
       "  'return',\n",
       "  ';',\n",
       "  '}',\n",
       "  '}',\n",
       "  'else',\n",
       "  '{',\n",
       "  'q',\n",
       "  '.',\n",
       "  'offer',\n",
       "  '(',\n",
       "  'value',\n",
       "  ')',\n",
       "  ';',\n",
       "  '}',\n",
       "  '}',\n",
       "  'else',\n",
       "  '{',\n",
       "  'q',\n",
       "  '.',\n",
       "  'offer',\n",
       "  '(',\n",
       "  'value',\n",
       "  ')',\n",
       "  ';',\n",
       "  'if',\n",
       "  '(',\n",
       "  '!',\n",
       "  'enter',\n",
       "  '(',\n",
       "  ')',\n",
       "  ')',\n",
       "  '{',\n",
       "  'return',\n",
       "  ';',\n",
       "  '}',\n",
       "  '}',\n",
       "  'QueueDrainHelper',\n",
       "  '.',\n",
       "  'drainLoop',\n",
       "  '(',\n",
       "  'q',\n",
       "  ',',\n",
       "  'observer',\n",
       "  ',',\n",
       "  'delayError',\n",
       "  ',',\n",
       "  'disposable',\n",
       "  ',',\n",
       "  'this',\n",
       "  ')',\n",
       "  ';',\n",
       "  '}'],\n",
       " 'docstring': 'Makes sure the fast-path emits in order.\\n@param value the value to emit or queue up\\n@param delayError if true, errors are delayed until the source has terminated\\n@param disposable the resource to dispose if the drain terminates',\n",
       " 'docstring_tokens': ['Makes',\n",
       "  'sure',\n",
       "  'the',\n",
       "  'fast',\n",
       "  '-',\n",
       "  'path',\n",
       "  'emits',\n",
       "  'in',\n",
       "  'order',\n",
       "  '.'],\n",
       " 'sha': 'ac84182aa2bd866b53e01c8e3fe99683b882c60e',\n",
       " 'url': 'https://github.com/ReactiveX/RxJava/blob/ac84182aa2bd866b53e01c8e3fe99683b882c60e/src/main/java/io/reactivex/internal/observers/QueueDrainObserver.java#L88-L108'}"
      ]
     },
     "execution_count": 5,
     "metadata": {},
     "output_type": "execute_result"
    }
   ],
   "source": [
    "# now, let us import the code to text summarization dataset\n",
    "dsCode = load_dataset('code_x_glue_ct_code_to_text', 'java', split='test')\n",
    "\n",
    "# and see the first example of the code\n",
    "dsCode[0]"
   ]
  },
  {
   "cell_type": "code",
   "execution_count": 6,
   "metadata": {},
   "outputs": [
    {
     "data": {
      "text/plain": [
       "10955"
      ]
     },
     "execution_count": 6,
     "metadata": {},
     "output_type": "execute_result"
    }
   ],
   "source": [
    "# we can even check how many tokens are in the code\n",
    "len(dsCode['code_tokens'])"
   ]
  },
  {
   "cell_type": "code",
   "execution_count": 13,
   "metadata": {},
   "outputs": [
    {
     "name": "stdout",
     "output_type": "stream",
     "text": [
      "['protected', 'final', 'void', 'fastPathOrderedEmit', '(', 'U', 'value', ',', 'boolean', 'delayError']\n"
     ]
    }
   ],
   "source": [
    "import pandas as pd\n",
    "\n",
    "# create a list of tokens\n",
    "lstCodeLines = dsCode['code_tokens']\n",
    "\n",
    "# flatten the list of lists to one list\n",
    "lstCodeLines = [item for sublist in lstCodeLines for item in sublist]\n",
    "\n",
    "#print the first elements of the list\n",
    "print(lstCodeLines[:10])\n",
    "\n",
    "dfCode = pd.DataFrame(lstCodeLines, columns=['token'])"
   ]
  },
  {
   "cell_type": "code",
   "execution_count": 30,
   "metadata": {},
   "outputs": [
    {
     "data": {
      "text/plain": [
       "[Text(0, 0, ')'),\n",
       " Text(1, 0, '('),\n",
       " Text(2, 0, '.'),\n",
       " Text(3, 0, ';'),\n",
       " Text(4, 0, '{'),\n",
       " Text(5, 0, '}'),\n",
       " Text(6, 0, ','),\n",
       " Text(7, 0, '='),\n",
       " Text(8, 0, 'if'),\n",
       " Text(9, 0, 'return'),\n",
       " Text(10, 0, 'String'),\n",
       " Text(11, 0, 'null'),\n",
       " Text(12, 0, 'new'),\n",
       " Text(13, 0, '<'),\n",
       " Text(14, 0, '>'),\n",
       " Text(15, 0, 'final'),\n",
       " Text(16, 0, 'public'),\n",
       " Text(17, 0, '+'),\n",
       " Text(18, 0, 'int'),\n",
       " Text(19, 0, '==')]"
      ]
     },
     "execution_count": 30,
     "metadata": {},
     "output_type": "execute_result"
    },
    {
     "data": {
      "image/png": "[encoded data removed]",
      "text/plain": [
       "<Figure size 1200x600 with 1 Axes>"
      ]
     },
     "metadata": {},
     "output_type": "display_data"
    }
   ],
   "source": [
    "import matplotlib.pyplot as plt\n",
    "\n",
    "# group the tokens and count the number of occurences\n",
    "# which will help us to visualize the frequency of tokens in the next step\n",
    "dfCodeCounts = dfCode.groupby('token').size().reset_index(name='counts')\n",
    "\n",
    "# sort the counts by descending order\n",
    "dfCodeCounts = dfCodeCounts.sort_values(by='counts', ascending=False)\n",
    "\n",
    "fig, ax = plt.subplots(figsize=(12, 6))\n",
    "\n",
    "# plot the frequency of tokens as a barplot\n",
    "# for the simplicity, we only take the first 20 tokens\n",
    "sns.barplot(x='token', \n",
    "            y='counts', \n",
    "            data=dfCodeCounts[:20], \n",
    "            palette=sns.color_palette(\"BuGn_r\", n_colors=20), \n",
    "            ax=ax)\n",
    "\n",
    "# rotate the x-axis labels to make sure that\n",
    "# we see the full token names, i.e. lines of code\n",
    "ax.set_xticklabels(ax.get_xticklabels(), \n",
    "                   rotation=45, \n",
    "                   horizontalalignment='right')\n"
   ]
  }
 ],
 "metadata": {
  "kernelspec": {
   "display_name": "Python 3",
   "language": "python",
   "name": "python3"
  },
  "language_info": {
   "codemirror_mode": {
    "name": "ipython",
    "version": 3
   },
   "file_extension": ".py",
   "mimetype": "text/x-python",
   "name": "python",
   "nbconvert_exporter": "python",
   "pygments_lexer": "ipython3",
   "version": "3.10.4"
  },
  "orig_nbformat": 4
 },
 "nbformat": 4,
 "nbformat_minor": 2
}
