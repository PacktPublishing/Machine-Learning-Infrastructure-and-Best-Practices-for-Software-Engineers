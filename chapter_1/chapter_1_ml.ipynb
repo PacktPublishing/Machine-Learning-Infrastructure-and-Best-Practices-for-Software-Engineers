{
  "cells": [
    {
      "cell_type": "markdown",
      "metadata": {
        "id": "p7okeyoKrNnf"
      },
      "source": [
        "# Fibonacci sequence using machine learning\n",
        "\n",
        "This version uses linear regression to create the fibonacci sequence\n",
        "\n",
        "Please note that the focus here is on the data, not the algorithm itself. "
      ]
    },
    {
      "cell_type": "code",
      "execution_count": 3,
      "metadata": {
        "id": "kaoaHvE2q4jI"
      },
      "outputs": [],
      "source": [
        "import warnings\n",
        "warnings.simplefilter(\"ignore\")"
      ]
    },
    {
      "cell_type": "code",
      "execution_count": 32,
      "metadata": {
        "colab": {
          "base_uri": "https://localhost:8080/"
        },
        "id": "FTJ3RfOIrJZO",
        "outputId": "5c124054-7f7c-4533-f2da-8f2249acfc61"
      },
      "outputs": [
        {
          "name": "stdout",
          "output_type": "stream",
          "text": [
            "1.0\n",
            "1\n",
            "2\n",
            "3\n",
            "5\n",
            "8\n",
            "13\n",
            "21\n",
            "34\n",
            "55\n",
            "89\n",
            "144\n",
            "233\n",
            "377\n",
            "610\n",
            "987\n",
            "1597\n",
            "2584\n",
            "4181\n",
            "6765\n",
            "10946\n",
            "17711\n",
            "28657\n",
            "46368\n",
            "75025\n",
            "121393\n"
          ]
        }
      ],
      "source": [
        "#predicting fibonacci with linear regression\n",
        "import pandas as pd\n",
        "import numpy as np\n",
        "from sklearn.linear_model import LinearRegression\n",
        "\n",
        "\n",
        "# training data for the algorithm\n",
        "# the first two columns are the numbers and the third column is the result\n",
        "dfTrain = pd.DataFrame([[1, 1, 2], \n",
        "                        [2, 1, 3], \n",
        "                        [3, 2, 5],\n",
        "                        [5, 3, 8],\n",
        "                        [8, 5, 13]\n",
        "])\n",
        "\n",
        "# we add the names of the columns to make it look a bit nicer\n",
        "dfTrain.columns = ['first number', 'second number', 'result']\n",
        "\n",
        "# algorithm to train\n",
        "# here, we use linear regression\n",
        "model = LinearRegression()\n",
        "\n",
        "# now, the actual process of training the model\n",
        "model.fit(dfTrain[['first number', 'second number']], \n",
        "                               dfTrain['result'])\n",
        "\n",
        "# printing the score of the model, i.e. how good the model is when trained\n",
        "print(model.score(dfTrain[['first number', 'second number']], dfTrain['result']))\n",
        "\n",
        "# now, let's make some predictions\n",
        "# we start the sequence as a list with the first two numbers\n",
        "lstSequence = [0,1]\n",
        "\n",
        "# and loop through the newly predicted numbers\n",
        "for k in range(25):\n",
        "\n",
        "  # the line below is where the magic happens\n",
        "  # it takes two numbers from the list\n",
        "  # formats them to an array\n",
        "  # and makes the prediction\n",
        "  # since the model returns a float, we need to convert it to it\n",
        "  intFibonacci = int(model.predict(np.array([[lstSequence[k],lstSequence[k+1]]])))\n",
        "  \n",
        "  # add this new number to the list for the next iteration\n",
        "  lstSequence.append(intFibonacci)\n",
        "\n",
        "  # and print it\n",
        "  print(intFibonacci)"
      ]
    }
  ],
  "metadata": {
    "colab": {
      "provenance": []
    },
    "kernelspec": {
      "display_name": "Python 3",
      "name": "python3"
    },
    "language_info": {
      "name": "python"
    }
  },
  "nbformat": 4,
  "nbformat_minor": 0
}
