{
  "nbformat": 4,
  "nbformat_minor": 0,
  "metadata": {
    "colab": {
      "provenance": []
    },
    "kernelspec": {
      "name": "python3",
      "display_name": "Python 3"
    },
    "language_info": {
      "name": "python"
    }
  },
  "cells": [
    {
      "cell_type": "markdown",
      "source": [
        "# Traditional software\n",
        "\n",
        "This workbook demonstrates a traditional solution of a problem of calculating the Fibonacci sequence. \n",
        "\n",
        "It contains a typical recursive solution, which is simple to write, but is very limited in terms of how many number we can calculate - probably up to say 25.\n",
        "\n",
        "The program is based on the examples from the Rosettacode.org"
      ],
      "metadata": {
        "id": "USnJoelZ0LIt"
      }
    },
    {
      "cell_type": "code",
      "execution_count": 2,
      "metadata": {
        "id": "FddHnIzZ0HKb"
      },
      "outputs": [],
      "source": [
        "# a recursive function to calculate the fibonacci number\n",
        "# this is a standard solution that is used in almost all kinds\n",
        "# of computer science examples\n",
        "def fibRec(n):\n",
        "  if n < 2:\n",
        "      return n\n",
        "  else:\n",
        "      return fibRec(n-1) + fibRec(n-2)"
      ]
    },
    {
      "cell_type": "code",
      "source": [
        "# a short loop that uses the above function\n",
        "for i in range(23):\n",
        "  print(fibRec(i))"
      ],
      "metadata": {
        "colab": {
          "base_uri": "https://localhost:8080/"
        },
        "id": "72ZAYUhO00x0",
        "outputId": "07b6cff6-ebc0-4d2d-f072-6e0978e7853f"
      },
      "execution_count": 3,
      "outputs": [
        {
          "output_type": "stream",
          "name": "stdout",
          "text": [
            "0\n",
            "1\n",
            "1\n",
            "2\n",
            "3\n",
            "5\n",
            "8\n",
            "13\n",
            "21\n",
            "34\n",
            "55\n",
            "89\n",
            "144\n",
            "233\n",
            "377\n",
            "610\n",
            "987\n",
            "1597\n",
            "2584\n",
            "4181\n",
            "6765\n",
            "10946\n",
            "17711\n"
          ]
        }
      ]
    }
  ]
}