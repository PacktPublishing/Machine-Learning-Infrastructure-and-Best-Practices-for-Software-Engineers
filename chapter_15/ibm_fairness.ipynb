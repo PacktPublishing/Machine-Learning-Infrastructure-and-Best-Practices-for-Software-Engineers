{
 "cells": [
  {
   "cell_type": "markdown",
   "metadata": {},
   "source": [
    "# IBM fairness framework \n",
    "\n",
    "This workbook demonstrates how to use IBM's AI Fairness 360 framework. The link to the git repo: https://github.com/Trusted-AI/AIF360 \n",
    "\n",
    "The data has been generated superficially and has no empirical source. "
   ]
  },
  {
   "cell_type": "code",
   "execution_count": null,
   "metadata": {},
   "outputs": [],
   "source": [
    "!pip install -q aif360[all]"
   ]
  },
  {
   "cell_type": "code",
   "execution_count": 8,
   "metadata": {},
   "outputs": [],
   "source": [
    "import numpy as np\n",
    "import pandas as pd\n",
    "from sklearn.model_selection import train_test_split\n",
    "from sklearn.preprocessing import StandardScaler\n",
    "from sklearn.linear_model import LogisticRegression\n",
    "from aif360.datasets import BinaryLabelDataset\n",
    "from aif360.metrics import BinaryLabelDatasetMetric\n",
    "from aif360.algorithms.preprocessing import Reweighing\n",
    "\n",
    "# Expanded Mock-up data with bias towards females\n",
    "data = {\n",
    "    'Age': [25, 45, 35, 50, 23, 30, 40, 28, 38, 48, 27, 37, 47, 26, 36, 46],\n",
    "    'Income': [50000, 100000, 75000, 120000, 45000, 55000, 95000, 65000, 85000, 110000, 48000, 58000, 98000, 68000, 88000, 105000],\n",
    "    'Gender': [1, 0, 1, 0, 1, 0, 1, 0, 1, 0, 1, 0, 1, 0, 1, 1],  # 1: Male, 0: Female\n",
    "    'Hired': [1, 1, 1, 0, 1, 0, 1, 0, 1, 0, 1, 0, 1, 0, 1, 1]   # 1: Hired, 0: Not Hired\n",
    "}\n",
    "df = pd.DataFrame(data)"
   ]
  },
  {
   "cell_type": "code",
   "execution_count": 9,
   "metadata": {},
   "outputs": [
    {
     "name": "stdout",
     "output_type": "stream",
     "text": [
      "Original training dataset disparity: 0.86\n",
      "Transformed training dataset disparity: 0.50\n"
     ]
    }
   ],
   "source": [
    "\n",
    "# Split data into training and testing sets\n",
    "train, test = train_test_split(df, test_size=0.2, random_state=42)\n",
    "\n",
    "# Convert dataframes into BinaryLabelDataset format\n",
    "train_bld = BinaryLabelDataset(df=train, label_names=['Hired'], protected_attribute_names=['Gender'])\n",
    "test_bld = BinaryLabelDataset(df=test, label_names=['Hired'], protected_attribute_names=['Gender'])\n",
    "\n",
    "# Compute fairness metric on original training dataset\n",
    "metric_train_bld = BinaryLabelDatasetMetric(train_bld, unprivileged_groups=[{'Gender': 1}], privileged_groups=[{'Gender': 0}])\n",
    "print(f'Original training dataset disparity: {metric_train_bld.mean_difference():.2f}')\n",
    "\n",
    "# Mitigate bias by reweighing the dataset\n",
    "RW = Reweighing(unprivileged_groups=[{'Gender': 1}], privileged_groups=[{'Gender': 0}])\n",
    "train_bld_transformed = RW.fit_transform(train_bld)\n",
    "\n",
    "# Compute fairness metric on transformed training dataset\n",
    "metric_train_bld_transformed = BinaryLabelDatasetMetric(train_bld_transformed, unprivileged_groups=[{'Gender': 1}], privileged_groups=[{'Gender': 0}])\n",
    "print(f'Transformed training dataset disparity: {metric_train_bld_transformed.mean_difference():.2f}')"
   ]
  },
  {
   "cell_type": "code",
   "execution_count": 10,
   "metadata": {},
   "outputs": [],
   "source": [
    "# Train a classifier (e.g., logistic regression) on the transformed dataset\n",
    "scaler = StandardScaler()\n",
    "X_train = scaler.fit_transform(train_bld_transformed.features)\n",
    "y_train = train_bld_transformed.labels.ravel()\n",
    "clf = LogisticRegression().fit(X_train, y_train)"
   ]
  },
  {
   "cell_type": "code",
   "execution_count": 11,
   "metadata": {},
   "outputs": [
    {
     "name": "stdout",
     "output_type": "stream",
     "text": [
      "Accuracy: 0.7500\n",
      "              precision    recall  f1-score   support\n",
      "\n",
      "   Not Hired       0.50      1.00      0.67         1\n",
      "       Hired       1.00      0.67      0.80         3\n",
      "\n",
      "    accuracy                           0.75         4\n",
      "   macro avg       0.75      0.83      0.73         4\n",
      "weighted avg       0.88      0.75      0.77         4\n",
      "\n",
      "Test dataset disparity: 1.0\n"
     ]
    }
   ],
   "source": [
    "# 1. Transform the test data\n",
    "X_test = scaler.transform(test_bld.features)\n",
    "y_test = test_bld.labels.ravel()\n",
    "\n",
    "# 2. Use the classifier to make predictions\n",
    "y_pred = clf.predict(X_test)\n",
    "\n",
    "# 3. Evaluate the classifier's performance\n",
    "from sklearn.metrics import accuracy_score, classification_report\n",
    "\n",
    "accuracy = accuracy_score(y_test, y_pred)\n",
    "print(f\"Accuracy: {accuracy:.4f}\")\n",
    "\n",
    "# Detailed classification report\n",
    "report = classification_report(y_test, y_pred, target_names=[\"Not Hired\", \"Hired\"])\n",
    "print(report)\n",
    "\n",
    "# If you want to evaluate fairness metrics on the test set:\n",
    "test_bld_pred = test_bld.copy()\n",
    "test_bld_pred.labels = y_pred.reshape(-1,1)\n",
    "metric_test_bld = BinaryLabelDatasetMetric(test_bld_pred, unprivileged_groups=[{'Gender': 1}], privileged_groups=[{'Gender': 0}])\n",
    "print(\"Test dataset disparity:\", metric_test_bld.mean_difference())\n"
   ]
  }
 ],
 "metadata": {
  "kernelspec": {
   "display_name": "Python 3",
   "language": "python",
   "name": "python3"
  },
  "language_info": {
   "codemirror_mode": {
    "name": "ipython",
    "version": 3
   },
   "file_extension": ".py",
   "mimetype": "text/x-python",
   "name": "python",
   "nbconvert_exporter": "python",
   "pygments_lexer": "ipython3",
   "version": "3.11.5"
  },
  "orig_nbformat": 4
 },
 "nbformat": 4,
 "nbformat_minor": 2
}
