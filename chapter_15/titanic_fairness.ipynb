{
 "cells": [
  {
   "cell_type": "markdown",
   "metadata": {},
   "source": [
    "# Applying the fairness calculation on the Titanic dataset"
   ]
  },
  {
   "cell_type": "code",
   "execution_count": null,
   "metadata": {},
   "outputs": [],
   "source": [
    "import warnings\n",
    "warnings.filterwarnings(\"ignore\", module='aif360')"
   ]
  },
  {
   "cell_type": "code",
   "execution_count": null,
   "metadata": {},
   "outputs": [],
   "source": [
    "import pandas as pd\n",
    "from sklearn.model_selection import train_test_split\n",
    "from sklearn.preprocessing import StandardScaler\n",
    "from sklearn.linear_model import LogisticRegression\n",
    "from aif360.datasets import BinaryLabelDataset\n",
    "from aif360.metrics import BinaryLabelDatasetMetric\n",
    "from aif360.algorithms.preprocessing import Reweighing\n",
    "\n",
    "# Load Titanic dataset\n",
    "url = \"https://web.stanford.edu/class/archive/cs/cs109/cs109.1166/stuff/titanic.csv\"\n",
    "df = pd.read_csv(url)\n",
    "\n",
    "df.head()"
   ]
  },
  {
   "cell_type": "code",
   "execution_count": null,
   "metadata": {},
   "outputs": [],
   "source": [
    "# Preprocess the data\n",
    "df['Sex'] = df['Sex'].map({'male': 1, 'female': 0})  # Convert 'Sex' to binary: 1 for male, 0 for female\n",
    "df.drop(['Name'], axis=1, inplace=True)  # Drop the 'Name' column\n",
    "\n",
    "# Split data into training and testing sets\n",
    "train, test = train_test_split(df, test_size=0.2, random_state=42)\n",
    "\n",
    "# Convert dataframes into BinaryLabelDataset format\n",
    "train_bld = BinaryLabelDataset(df=train, label_names=['Survived'], protected_attribute_names=['Sex'])\n",
    "test_bld = BinaryLabelDataset(df=test, label_names=['Survived'], protected_attribute_names=['Sex'])\n",
    "\n",
    "# Compute fairness metric on original training dataset\n",
    "metric_train_bld = BinaryLabelDatasetMetric(train_bld, unprivileged_groups=[{'Sex': 0}], privileged_groups=[{'Sex': 1}])\n",
    "print(f'Original training dataset disparity: {metric_train_bld.mean_difference():.2f}')\n",
    "\n",
    "# Mitigate bias by reweighing the dataset\n",
    "RW = Reweighing(unprivileged_groups=[{'Sex': 0}], privileged_groups=[{'Sex': 1}])\n",
    "train_bld_transformed = RW.fit_transform(train_bld)\n",
    "\n",
    "# Compute fairness metric on transformed training dataset\n",
    "metric_train_bld_transformed = BinaryLabelDatasetMetric(train_bld_transformed, unprivileged_groups=[{'Sex': 0}], privileged_groups=[{'Sex': 1}])\n",
    "print(f'Transformed training dataset disparity: {metric_train_bld_transformed.mean_difference():.2f}')"
   ]
  },
  {
   "cell_type": "code",
   "execution_count": null,
   "metadata": {},
   "outputs": [],
   "source": [
    "from aif360.explainers import MetricTextExplainer, MetricJSONExplainer\n",
    "\n",
    "text_expl = MetricTextExplainer(metric_train_bld)\n",
    "\n",
    "json_expl = MetricJSONExplainer(metric_train_bld)\n",
    "\n",
    "import json\n",
    "def format_json(json_str):\n",
    "    return json.dumps(json.loads(json_str, object_pairs_hook=OrderedDict), indent=2)"
   ]
  },
  {
   "cell_type": "code",
   "execution_count": null,
   "metadata": {},
   "outputs": [],
   "source": [
    "print(format_json(json_expl.num_positives()))"
   ]
  },
  {
   "cell_type": "code",
   "execution_count": null,
   "metadata": {},
   "outputs": [],
   "source": [
    "dfTransformed = train_bld_transformed.convert_to_dataframe()\n",
    "dfTransformed[0].shape"
   ]
  },
  {
   "cell_type": "code",
   "execution_count": null,
   "metadata": {},
   "outputs": [],
   "source": [
    "df"
   ]
  },
  {
   "cell_type": "code",
   "execution_count": null,
   "metadata": {},
   "outputs": [],
   "source": [
    "# Train a classifier (e.g., logistic regression) on the transformed dataset\n",
    "scaler = StandardScaler()\n",
    "X_train = scaler.fit_transform(train_bld_transformed.features)\n",
    "y_train = train_bld_transformed.labels.ravel()\n",
    "clf = LogisticRegression().fit(X_train, y_train)\n",
    "\n",
    "# Test the classifier\n",
    "X_test = scaler.transform(test_bld.features)\n",
    "y_test = test_bld.labels.ravel()\n",
    "y_pred = clf.predict(X_test)\n",
    "\n",
    "# Evaluate the classifier's performance\n",
    "from sklearn.metrics import accuracy_score, classification_report\n",
    "accuracy = accuracy_score(y_test, y_pred)\n",
    "print(f\"Accuracy: {accuracy:.4f}\")\n",
    "report = classification_report(y_test, y_pred, target_names=[\"Not Survived\", \"Survived\"])\n",
    "print(report)\n"
   ]
  }
 ],
 "metadata": {
  "kernelspec": {
   "display_name": "Python 3",
   "language": "python",
   "name": "python3"
  },
  "language_info": {
   "codemirror_mode": {
    "name": "ipython",
    "version": 3
   },
   "file_extension": ".py",
   "mimetype": "text/x-python",
   "name": "python",
   "nbconvert_exporter": "python",
   "pygments_lexer": "ipython3",
   "version": "3.11.5"
  },
  "orig_nbformat": 4
 },
 "nbformat": 4,
 "nbformat_minor": 2
}
