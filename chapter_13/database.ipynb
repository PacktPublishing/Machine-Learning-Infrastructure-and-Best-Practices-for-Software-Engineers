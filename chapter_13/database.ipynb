{
 "cells": [
  {
   "cell_type": "markdown",
   "metadata": {},
   "source": [
    "# Working with the SQLite database\n",
    "\n",
    "This tutorial shows how to connect to a simple SQLite database. In this workbook, we create a database based on our previous excel file. \n",
    "\n",
    "We use that database in the machine learning UI later on. First, we read the data from the .csv file, then we create a database from that data. \n",
    "\n",
    "In the end, we just execute the standard \"SELECT * from ...\" statement to check that the data is accessible. "
   ]
  },
  {
   "cell_type": "code",
   "execution_count": 25,
   "metadata": {},
   "outputs": [],
   "source": [
    "# create the database\n",
    "import sqlite3\n",
    "\n",
    "# create the engine\n",
    "from sqlalchemy import create_engine\n",
    "\n",
    "conn = sqlite3.connect(':memory:')\n",
    "\n",
    "c = conn.cursor()"
   ]
  },
  {
   "cell_type": "code",
   "execution_count": 26,
   "metadata": {},
   "outputs": [
    {
     "name": "stdout",
     "output_type": "stream",
     "text": [
      "                             ClassName  CBO  DCC  ExportCoupling  \\\n",
      "0  org.apache.tools.ant.AntClassLoader    9    2               7   \n",
      "1      org.apache.tools.ant.BuildEvent    6    3               5   \n",
      "2  org.apache.tools.ant.BuildException   80    1              79   \n",
      "3   org.apache.tools.ant.BuildListener    1    1               1   \n",
      "4     org.apache.tools.ant.BuildLogger    1    0               1   \n",
      "\n",
      "   ImportCoupling  NOM  WMC  Defect  \n",
      "0               2   13   41       1  \n",
      "1               3    8    8       0  \n",
      "2               1    7    9       0  \n",
      "3               1    7    7       0  \n",
      "4               0    4    4       0  \n"
     ]
    },
    {
     "data": {
      "text/plain": [
       "116"
      ]
     },
     "execution_count": 26,
     "metadata": {},
     "output_type": "execute_result"
    }
   ],
   "source": [
    "# read the excel file with the data\n",
    "# and save the data to the database\n",
    "import pandas as pd\n",
    "\n",
    "# read the excel file\n",
    "df = pd.read_excel('chapter_12.xlsx', sheet_name='ant_1_3')\n",
    "\n",
    "# print the first 5 rows\n",
    "print(df.head())\n",
    "\n",
    "# create the enginve that we use to connect to the database to \n",
    "# save the data\n",
    "engine = create_engine('sqlite:///:memory:')\n",
    "\n",
    "# save the dataframe to the database\n",
    "df.to_sql('ant_1_3', engine, index=False, if_exists='replace')\n"
   ]
  },
  {
   "cell_type": "code",
   "execution_count": 28,
   "metadata": {},
   "outputs": [
    {
     "data": {
      "text/plain": [
       "<sqlite3.Cursor at 0x1dc8cf977c0>"
      ]
     },
     "execution_count": 28,
     "metadata": {},
     "output_type": "execute_result"
    }
   ],
   "source": [
    "# serialize to disk\n",
    "c.execute(\"vacuum main into 'saved.db'\")"
   ]
  },
  {
   "cell_type": "code",
   "execution_count": 9,
   "metadata": {},
   "outputs": [
    {
     "data": {
      "text/plain": [
       "116"
      ]
     },
     "execution_count": 9,
     "metadata": {},
     "output_type": "execute_result"
    }
   ],
   "source": [
    "# create the table based on the dataframe structure\n",
    "# create the database and table\n",
    "# create the engine\n",
    "from sqlalchemy import create_engine\n",
    "\n",
    "engine = create_engine('sqlite:///ant13.db')\n",
    "\n",
    "# save the dataframe to the database\n",
    "df.to_sql('ant_1_3', engine, index=False, if_exists='replace')\n"
   ]
  },
  {
   "cell_type": "markdown",
   "metadata": {},
   "source": [
    "## Retrieving the data\n",
    "\n",
    "Just for the final check, let's obtain the data from the database. "
   ]
  },
  {
   "cell_type": "code",
   "execution_count": 14,
   "metadata": {},
   "outputs": [],
   "source": [
    "# select all rows from that database\n",
    "data = c.execute('SELECT * FROM ant_1_3').fetchall()"
   ]
  },
  {
   "cell_type": "code",
   "execution_count": 18,
   "metadata": {},
   "outputs": [
    {
     "data": {
      "text/html": [
       "<div>\n",
       "<style scoped>\n",
       "    .dataframe tbody tr th:only-of-type {\n",
       "        vertical-align: middle;\n",
       "    }\n",
       "\n",
       "    .dataframe tbody tr th {\n",
       "        vertical-align: top;\n",
       "    }\n",
       "\n",
       "    .dataframe thead th {\n",
       "        text-align: right;\n",
       "    }\n",
       "</style>\n",
       "<table border=\"1\" class=\"dataframe\">\n",
       "  <thead>\n",
       "    <tr style=\"text-align: right;\">\n",
       "      <th></th>\n",
       "      <th>ClassName</th>\n",
       "      <th>CBO</th>\n",
       "      <th>DCC</th>\n",
       "      <th>ExportCoupling</th>\n",
       "      <th>ImportCoupling</th>\n",
       "      <th>NOM</th>\n",
       "      <th>WMC</th>\n",
       "      <th>Defect</th>\n",
       "    </tr>\n",
       "  </thead>\n",
       "  <tbody>\n",
       "    <tr>\n",
       "      <th>0</th>\n",
       "      <td>org.apache.tools.ant.AntClassLoader</td>\n",
       "      <td>9</td>\n",
       "      <td>2</td>\n",
       "      <td>7</td>\n",
       "      <td>2</td>\n",
       "      <td>13</td>\n",
       "      <td>41</td>\n",
       "      <td>1</td>\n",
       "    </tr>\n",
       "    <tr>\n",
       "      <th>1</th>\n",
       "      <td>org.apache.tools.ant.BuildEvent</td>\n",
       "      <td>6</td>\n",
       "      <td>3</td>\n",
       "      <td>5</td>\n",
       "      <td>3</td>\n",
       "      <td>8</td>\n",
       "      <td>8</td>\n",
       "      <td>0</td>\n",
       "    </tr>\n",
       "    <tr>\n",
       "      <th>2</th>\n",
       "      <td>org.apache.tools.ant.BuildException</td>\n",
       "      <td>80</td>\n",
       "      <td>1</td>\n",
       "      <td>79</td>\n",
       "      <td>1</td>\n",
       "      <td>7</td>\n",
       "      <td>9</td>\n",
       "      <td>0</td>\n",
       "    </tr>\n",
       "    <tr>\n",
       "      <th>3</th>\n",
       "      <td>org.apache.tools.ant.BuildListener</td>\n",
       "      <td>1</td>\n",
       "      <td>1</td>\n",
       "      <td>1</td>\n",
       "      <td>1</td>\n",
       "      <td>7</td>\n",
       "      <td>7</td>\n",
       "      <td>0</td>\n",
       "    </tr>\n",
       "    <tr>\n",
       "      <th>4</th>\n",
       "      <td>org.apache.tools.ant.BuildLogger</td>\n",
       "      <td>1</td>\n",
       "      <td>0</td>\n",
       "      <td>1</td>\n",
       "      <td>0</td>\n",
       "      <td>4</td>\n",
       "      <td>4</td>\n",
       "      <td>0</td>\n",
       "    </tr>\n",
       "  </tbody>\n",
       "</table>\n",
       "</div>"
      ],
      "text/plain": [
       "                             ClassName  CBO  DCC  ExportCoupling  \\\n",
       "0  org.apache.tools.ant.AntClassLoader    9    2               7   \n",
       "1      org.apache.tools.ant.BuildEvent    6    3               5   \n",
       "2  org.apache.tools.ant.BuildException   80    1              79   \n",
       "3   org.apache.tools.ant.BuildListener    1    1               1   \n",
       "4     org.apache.tools.ant.BuildLogger    1    0               1   \n",
       "\n",
       "   ImportCoupling  NOM  WMC  Defect  \n",
       "0               2   13   41       1  \n",
       "1               3    8    8       0  \n",
       "2               1    7    9       0  \n",
       "3               1    7    7       0  \n",
       "4               0    4    4       0  "
      ]
     },
     "execution_count": 18,
     "metadata": {},
     "output_type": "execute_result"
    }
   ],
   "source": [
    "# and now, let's create a dataframe from that data\n",
    "df = pd.DataFrame(data)\n",
    "\n",
    "# get the names of the columns from the SQL database\n",
    "# and use them as the column names for the dataframe\n",
    "df.columns = [x[0] for x in c.description]\n",
    "\n",
    "# print the head of the dataframe\n",
    "df.head()"
   ]
  },
  {
   "cell_type": "code",
   "execution_count": 21,
   "metadata": {},
   "outputs": [
    {
     "data": {
      "text/plain": [
       "[('ant_1_3',)]"
      ]
     },
     "execution_count": 21,
     "metadata": {},
     "output_type": "execute_result"
    }
   ],
   "source": [
    "# get the name of the tables that exist in the database\n",
    "c.execute(\"SELECT name FROM sqlite_master WHERE type='table';\").fetchall()"
   ]
  }
 ],
 "metadata": {
  "kernelspec": {
   "display_name": "Python 3",
   "language": "python",
   "name": "python3"
  },
  "language_info": {
   "codemirror_mode": {
    "name": "ipython",
    "version": 3
   },
   "file_extension": ".py",
   "mimetype": "text/x-python",
   "name": "python",
   "nbconvert_exporter": "python",
   "pygments_lexer": "ipython3",
   "version": "3.11.4"
  },
  "orig_nbformat": 4
 },
 "nbformat": 4,
 "nbformat_minor": 2
}
