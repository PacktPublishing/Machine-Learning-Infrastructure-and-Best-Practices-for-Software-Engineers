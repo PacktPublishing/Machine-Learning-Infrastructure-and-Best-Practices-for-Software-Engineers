{
 "cells": [
  {
   "cell_type": "markdown",
   "metadata": {},
   "source": [
    "# Working with the SQLite database\n",
    "\n",
    "This tutorial shows how to connect to a simple SQLite database. In this workbook, we create a database based on our previous excel file. \n",
    "\n",
    "We use that database in the machine learning UI later on. First, we read the data from the .csv file, then we create a database from that data. \n",
    "\n",
    "In the end, we just execute the standard \"SELECT * from ...\" statement to check that the data is accessible. "
   ]
  },
  {
   "cell_type": "code",
   "execution_count": null,
   "metadata": {},
   "outputs": [],
   "source": [
    "# create the database\n",
    "import sqlite3\n",
    "\n",
    "# create the engine\n",
    "from sqlalchemy import create_engine\n",
    "\n",
    "conn = sqlite3.connect(':memory:')\n",
    "\n",
    "c = conn.cursor()"
   ]
  },
  {
   "cell_type": "code",
   "execution_count": null,
   "metadata": {},
   "outputs": [],
   "source": [
    "# read the excel file with the data\n",
    "# and save the data to the database\n",
    "import pandas as pd\n",
    "\n",
    "# read the excel file\n",
    "df = pd.read_excel('chapter_12.xlsx', sheet_name='ant_1_3')\n",
    "\n",
    "# print the first 5 rows\n",
    "print(df.head())\n",
    "\n",
    "# create the enginve that we use to connect to the database to \n",
    "# save the data\n",
    "engine = create_engine('sqlite:///:memory:')\n",
    "\n",
    "# save the dataframe to the database\n",
    "df.to_sql('ant_1_3', engine, index=False, if_exists='replace')\n"
   ]
  },
  {
   "cell_type": "code",
   "execution_count": null,
   "metadata": {},
   "outputs": [],
   "source": [
    "# serialize to disk\n",
    "c.execute(\"vacuum main into 'saved.db'\")"
   ]
  },
  {
   "cell_type": "code",
   "execution_count": null,
   "metadata": {},
   "outputs": [],
   "source": [
    "# create the table based on the dataframe structure\n",
    "# create the database and table\n",
    "# create the engine\n",
    "from sqlalchemy import create_engine\n",
    "\n",
    "engine = create_engine('sqlite:///ant13.db')\n",
    "\n",
    "# save the dataframe to the database\n",
    "df.to_sql('ant_1_3', engine, index=False, if_exists='replace')\n"
   ]
  },
  {
   "cell_type": "markdown",
   "metadata": {},
   "source": [
    "## Retrieving the data\n",
    "\n",
    "Just for the final check, let's obtain the data from the database. "
   ]
  },
  {
   "cell_type": "code",
   "execution_count": null,
   "metadata": {},
   "outputs": [],
   "source": [
    "# select all rows from that database\n",
    "data = c.execute('SELECT * FROM ant_1_3').fetchall()"
   ]
  },
  {
   "cell_type": "code",
   "execution_count": null,
   "metadata": {},
   "outputs": [],
   "source": [
    "# and now, let's create a dataframe from that data\n",
    "df = pd.DataFrame(data)\n",
    "\n",
    "# get the names of the columns from the SQL database\n",
    "# and use them as the column names for the dataframe\n",
    "df.columns = [x[0] for x in c.description]\n",
    "\n",
    "# print the head of the dataframe\n",
    "df.head()"
   ]
  },
  {
   "cell_type": "code",
   "execution_count": null,
   "metadata": {},
   "outputs": [],
   "source": [
    "# get the name of the tables that exist in the database\n",
    "c.execute(\"SELECT name FROM sqlite_master WHERE type='table';\").fetchall()"
   ]
  }
 ],
 "metadata": {
  "kernelspec": {
   "display_name": "Python 3",
   "language": "python",
   "name": "python3"
  },
  "language_info": {
   "codemirror_mode": {
    "name": "ipython",
    "version": 3
   },
   "file_extension": ".py",
   "mimetype": "text/x-python",
   "name": "python",
   "nbconvert_exporter": "python",
   "pygments_lexer": "ipython3",
   "version": "3.11.4"
  },
  "orig_nbformat": 4
 },
 "nbformat": 4,
 "nbformat_minor": 2
}
