{
  "nbformat": 4,
  "nbformat_minor": 0,
  "metadata": {
    "colab": {
      "provenance": [],
      "authorship_tag": "ABX9TyNAe0rIuvAgivLghMh+1K69"
    },
    "kernelspec": {
      "name": "python3",
      "display_name": "Python 3"
    },
    "language_info": {
      "name": "python"
    }
  },
  "cells": [
    {
      "cell_type": "markdown",
      "source": [
        "# Identifying and removing class noise\n",
        "\n",
        "This script identifies noisy datapoints and removes them from the data set. A noisy data point is defined here as a data point which is duplicated and the duplicate is labelled with a different class. "
      ],
      "metadata": {
        "id": "rgL9w1kbriw_"
      }
    },
    {
      "cell_type": "code",
      "source": [
        "import pandas as pd"
      ],
      "metadata": {
        "id": "Ebm46-2xGR3-"
      },
      "execution_count": null,
      "outputs": []
    },
    {
      "cell_type": "code",
      "source": [
        "# access google drive with code\n",
        "# we import the library that helps us to connect to Google Drive\n",
        "from google.colab import drive\n",
        "\n",
        "# we connect to the google drive\n",
        "drive.mount('/content/gdrive/')\n",
        "\n",
        "# and we enter the folder where I stored the data\n",
        "%cd '/content/gdrive/My Drive/ds/'"
      ],
      "metadata": {
        "colab": {
          "base_uri": "https://localhost:8080/"
        },
        "id": "EDPPB2omr4i8",
        "outputId": "ec8cd601-5ef7-40df-a22a-9acc2a2355ef"
      },
      "execution_count": null,
      "outputs": [
        {
          "output_type": "stream",
          "name": "stdout",
          "text": [
            "Mounted at /content/gdrive/\n",
            "/content/gdrive/My Drive/ds\n"
          ]
        }
      ]
    },
    {
      "cell_type": "code",
      "source": [
        "%pwd"
      ],
      "metadata": {
        "colab": {
          "base_uri": "https://localhost:8080/",
          "height": 36
        },
        "id": "zB0nRgsdHC-l",
        "outputId": "0fa52570-9993-40c7-ea32-f3860c857900"
      },
      "execution_count": null,
      "outputs": [
        {
          "output_type": "execute_result",
          "data": {
            "text/plain": [
              "'/content/gdrive/MyDrive/ds'"
            ],
            "application/vnd.google.colaboratory.intrinsic+json": {
              "type": "string"
            }
          },
          "metadata": {},
          "execution_count": 6
        }
      ]
    },
    {
      "cell_type": "code",
      "source": [
        "# first we read the file to analyze for the presence of noise\n",
        "dfData = pd.read_csv('./book_chapter_4_embedded_1k_reviews.csv')\n",
        "\n",
        "dfData.head(5)"
      ],
      "metadata": {
        "colab": {
          "base_uri": "https://localhost:8080/",
          "height": 337
        },
        "id": "pZhQMXy3F_6R",
        "outputId": "3953becf-7449-4dbb-9280-738e5aa94bd1"
      },
      "execution_count": null,
      "outputs": [
        {
          "output_type": "execute_result",
          "data": {
            "text/plain": [
              "         Time   ProductId          UserId  Score                Summary  \\\n",
              "0  1303862400  B001E4KFG0  A3SGXH7AUHU8GW      5  Good Quality Dog Food   \n",
              "1  1346976000  B00813GRG4  A1D87F6ZCVE5NK      1      Not as Advertised   \n",
              "2  1219017600  B000LQOCH0   ABXLMWJIXXAIN      4  \"Delight\" says it all   \n",
              "3  1307923200  B000UA0QIQ  A395BORC6FGVXV      2         Cough Medicine   \n",
              "4  1350777600  B006K2ZZ7K  A1UQRSCLF8GW1T      5            Great taffy   \n",
              "\n",
              "                                                Text  \\\n",
              "0  I have bought several of the Vitality canned d...   \n",
              "1  Product arrived labeled as Jumbo Salted Peanut...   \n",
              "2  This is a confection that has been around a fe...   \n",
              "3  If you are looking for the secret ingredient i...   \n",
              "4  Great taffy at a great price.  There was a wid...   \n",
              "\n",
              "                                            combined  \\\n",
              "0  Title: Good Quality Dog Food; Content: I have ...   \n",
              "1  Title: Not as Advertised; Content: Product arr...   \n",
              "2  Title: \"Delight\" says it all; Content: This is...   \n",
              "3  Title: Cough Medicine; Content: If you are loo...   \n",
              "4  Title: Great taffy; Content: Great taffy at a ...   \n",
              "\n",
              "                                  babbage_similarity  \\\n",
              "0  [-0.005302980076521635, 0.018141526728868484, ...   \n",
              "1  [-0.0055375657975673676, 0.013543304055929184,...   \n",
              "2  [-0.003390523372218013, 0.015841200947761536, ...   \n",
              "3  [-0.019539982080459595, 0.03985346108675003, -...   \n",
              "4  [-0.022796129807829857, -0.011814728379249573,...   \n",
              "\n",
              "                                      babbage_search  \n",
              "0  [-0.014629893936216831, 0.026541460305452347, ...  \n",
              "1  [-0.013880345970392227, 0.02056480571627617, -...  \n",
              "2  [0.0022454208228737116, 0.028257180005311966, ...  \n",
              "3  [-0.01540567446500063, 0.0527786985039711, 0.0...  \n",
              "4  [-0.03182186186313629, -0.004497968591749668, ...  "
            ],
            "text/html": [
              "\n",
              "  <div id=\"df-806f47b1-f216-4d1f-a26e-a142d0e69af0\">\n",
              "    <div class=\"colab-df-container\">\n",
              "      <div>\n",
              "<style scoped>\n",
              "    .dataframe tbody tr th:only-of-type {\n",
              "        vertical-align: middle;\n",
              "    }\n",
              "\n",
              "    .dataframe tbody tr th {\n",
              "        vertical-align: top;\n",
              "    }\n",
              "\n",
              "    .dataframe thead th {\n",
              "        text-align: right;\n",
              "    }\n",
              "</style>\n",
              "<table border=\"1\" class=\"dataframe\">\n",
              "  <thead>\n",
              "    <tr style=\"text-align: right;\">\n",
              "      <th></th>\n",
              "      <th>Time</th>\n",
              "      <th>ProductId</th>\n",
              "      <th>UserId</th>\n",
              "      <th>Score</th>\n",
              "      <th>Summary</th>\n",
              "      <th>Text</th>\n",
              "      <th>combined</th>\n",
              "      <th>babbage_similarity</th>\n",
              "      <th>babbage_search</th>\n",
              "    </tr>\n",
              "  </thead>\n",
              "  <tbody>\n",
              "    <tr>\n",
              "      <th>0</th>\n",
              "      <td>1303862400</td>\n",
              "      <td>B001E4KFG0</td>\n",
              "      <td>A3SGXH7AUHU8GW</td>\n",
              "      <td>5</td>\n",
              "      <td>Good Quality Dog Food</td>\n",
              "      <td>I have bought several of the Vitality canned d...</td>\n",
              "      <td>Title: Good Quality Dog Food; Content: I have ...</td>\n",
              "      <td>[-0.005302980076521635, 0.018141526728868484, ...</td>\n",
              "      <td>[-0.014629893936216831, 0.026541460305452347, ...</td>\n",
              "    </tr>\n",
              "    <tr>\n",
              "      <th>1</th>\n",
              "      <td>1346976000</td>\n",
              "      <td>B00813GRG4</td>\n",
              "      <td>A1D87F6ZCVE5NK</td>\n",
              "      <td>1</td>\n",
              "      <td>Not as Advertised</td>\n",
              "      <td>Product arrived labeled as Jumbo Salted Peanut...</td>\n",
              "      <td>Title: Not as Advertised; Content: Product arr...</td>\n",
              "      <td>[-0.0055375657975673676, 0.013543304055929184,...</td>\n",
              "      <td>[-0.013880345970392227, 0.02056480571627617, -...</td>\n",
              "    </tr>\n",
              "    <tr>\n",
              "      <th>2</th>\n",
              "      <td>1219017600</td>\n",
              "      <td>B000LQOCH0</td>\n",
              "      <td>ABXLMWJIXXAIN</td>\n",
              "      <td>4</td>\n",
              "      <td>\"Delight\" says it all</td>\n",
              "      <td>This is a confection that has been around a fe...</td>\n",
              "      <td>Title: \"Delight\" says it all; Content: This is...</td>\n",
              "      <td>[-0.003390523372218013, 0.015841200947761536, ...</td>\n",
              "      <td>[0.0022454208228737116, 0.028257180005311966, ...</td>\n",
              "    </tr>\n",
              "    <tr>\n",
              "      <th>3</th>\n",
              "      <td>1307923200</td>\n",
              "      <td>B000UA0QIQ</td>\n",
              "      <td>A395BORC6FGVXV</td>\n",
              "      <td>2</td>\n",
              "      <td>Cough Medicine</td>\n",
              "      <td>If you are looking for the secret ingredient i...</td>\n",
              "      <td>Title: Cough Medicine; Content: If you are loo...</td>\n",
              "      <td>[-0.019539982080459595, 0.03985346108675003, -...</td>\n",
              "      <td>[-0.01540567446500063, 0.0527786985039711, 0.0...</td>\n",
              "    </tr>\n",
              "    <tr>\n",
              "      <th>4</th>\n",
              "      <td>1350777600</td>\n",
              "      <td>B006K2ZZ7K</td>\n",
              "      <td>A1UQRSCLF8GW1T</td>\n",
              "      <td>5</td>\n",
              "      <td>Great taffy</td>\n",
              "      <td>Great taffy at a great price.  There was a wid...</td>\n",
              "      <td>Title: Great taffy; Content: Great taffy at a ...</td>\n",
              "      <td>[-0.022796129807829857, -0.011814728379249573,...</td>\n",
              "      <td>[-0.03182186186313629, -0.004497968591749668, ...</td>\n",
              "    </tr>\n",
              "  </tbody>\n",
              "</table>\n",
              "</div>\n",
              "      <button class=\"colab-df-convert\" onclick=\"convertToInteractive('df-806f47b1-f216-4d1f-a26e-a142d0e69af0')\"\n",
              "              title=\"Convert this dataframe to an interactive table.\"\n",
              "              style=\"display:none;\">\n",
              "        \n",
              "  <svg xmlns=\"http://www.w3.org/2000/svg\" height=\"24px\"viewBox=\"0 0 24 24\"\n",
              "       width=\"24px\">\n",
              "    <path d=\"M0 0h24v24H0V0z\" fill=\"none\"/>\n",
              "    <path d=\"M18.56 5.44l.94 2.06.94-2.06 2.06-.94-2.06-.94-.94-2.06-.94 2.06-2.06.94zm-11 1L8.5 8.5l.94-2.06 2.06-.94-2.06-.94L8.5 2.5l-.94 2.06-2.06.94zm10 10l.94 2.06.94-2.06 2.06-.94-2.06-.94-.94-2.06-.94 2.06-2.06.94z\"/><path d=\"M17.41 7.96l-1.37-1.37c-.4-.4-.92-.59-1.43-.59-.52 0-1.04.2-1.43.59L10.3 9.45l-7.72 7.72c-.78.78-.78 2.05 0 2.83L4 21.41c.39.39.9.59 1.41.59.51 0 1.02-.2 1.41-.59l7.78-7.78 2.81-2.81c.8-.78.8-2.07 0-2.86zM5.41 20L4 18.59l7.72-7.72 1.47 1.35L5.41 20z\"/>\n",
              "  </svg>\n",
              "      </button>\n",
              "      \n",
              "  <style>\n",
              "    .colab-df-container {\n",
              "      display:flex;\n",
              "      flex-wrap:wrap;\n",
              "      gap: 12px;\n",
              "    }\n",
              "\n",
              "    .colab-df-convert {\n",
              "      background-color: #E8F0FE;\n",
              "      border: none;\n",
              "      border-radius: 50%;\n",
              "      cursor: pointer;\n",
              "      display: none;\n",
              "      fill: #1967D2;\n",
              "      height: 32px;\n",
              "      padding: 0 0 0 0;\n",
              "      width: 32px;\n",
              "    }\n",
              "\n",
              "    .colab-df-convert:hover {\n",
              "      background-color: #E2EBFA;\n",
              "      box-shadow: 0px 1px 2px rgba(60, 64, 67, 0.3), 0px 1px 3px 1px rgba(60, 64, 67, 0.15);\n",
              "      fill: #174EA6;\n",
              "    }\n",
              "\n",
              "    [theme=dark] .colab-df-convert {\n",
              "      background-color: #3B4455;\n",
              "      fill: #D2E3FC;\n",
              "    }\n",
              "\n",
              "    [theme=dark] .colab-df-convert:hover {\n",
              "      background-color: #434B5C;\n",
              "      box-shadow: 0px 1px 3px 1px rgba(0, 0, 0, 0.15);\n",
              "      filter: drop-shadow(0px 1px 2px rgba(0, 0, 0, 0.3));\n",
              "      fill: #FFFFFF;\n",
              "    }\n",
              "  </style>\n",
              "\n",
              "      <script>\n",
              "        const buttonEl =\n",
              "          document.querySelector('#df-806f47b1-f216-4d1f-a26e-a142d0e69af0 button.colab-df-convert');\n",
              "        buttonEl.style.display =\n",
              "          google.colab.kernel.accessAllowed ? 'block' : 'none';\n",
              "\n",
              "        async function convertToInteractive(key) {\n",
              "          const element = document.querySelector('#df-806f47b1-f216-4d1f-a26e-a142d0e69af0');\n",
              "          const dataTable =\n",
              "            await google.colab.kernel.invokeFunction('convertToInteractive',\n",
              "                                                     [key], {});\n",
              "          if (!dataTable) return;\n",
              "\n",
              "          const docLinkHtml = 'Like what you see? Visit the ' +\n",
              "            '<a target=\"_blank\" href=https://colab.research.google.com/notebooks/data_table.ipynb>data table notebook</a>'\n",
              "            + ' to learn more about interactive tables.';\n",
              "          element.innerHTML = '';\n",
              "          dataTable['output_type'] = 'display_data';\n",
              "          await google.colab.output.renderOutput(dataTable, element);\n",
              "          const docLink = document.createElement('div');\n",
              "          docLink.innerHTML = docLinkHtml;\n",
              "          element.appendChild(docLink);\n",
              "        }\n",
              "      </script>\n",
              "    </div>\n",
              "  </div>\n",
              "  "
            ]
          },
          "metadata": {},
          "execution_count": 9
        }
      ]
    },
    {
      "cell_type": "code",
      "source": [
        "# now, let's check if there are any duplicate entries\n",
        "\n",
        "# get the number of all data points\n",
        "allDataPoints = len(dfData.Summary)             \n",
        "\n",
        "# and get the number of unique data points\n",
        "uniqueDataPoints = len(dfData.Summary.unique())\n",
        "\n",
        "# check if the number of unique and all data points is the same\n",
        "if allDataPoints != uniqueDataPoints:\n",
        "  print(f'There are {allDataPoints - uniqueDataPoints} duplicate entries, which can potentially be noisy')"
      ],
      "metadata": {
        "colab": {
          "base_uri": "https://localhost:8080/"
        },
        "id": "KrmGcLTCHan4",
        "outputId": "17fdd82a-1aac-4f69-b487-5932acfd9cf5"
      },
      "execution_count": null,
      "outputs": [
        {
          "output_type": "stream",
          "name": "stdout",
          "text": [
            "There are 41 duplicate entries, which can potentially be noisy\n"
          ]
        }
      ]
    },
    {
      "cell_type": "code",
      "source": [
        "# then, we find duplicate data points\n",
        "\n",
        "# first we group the datapoints\n",
        "dfGrouped = dfData.groupby(by=dfData.Summary).count()\n",
        "\n",
        "# then we find the index of the ones that are not unique\n",
        "lstDuplicated = dfGrouped[dfGrouped.Time > 1].index.to_list()"
      ],
      "metadata": {
        "id": "0t7CqQVLGD33"
      },
      "execution_count": null,
      "outputs": []
    },
    {
      "cell_type": "code",
      "source": [
        "# a simple solution would be to remove them\n",
        "# as the duplicates can contain noise\n",
        "dfClean = dfData[~dfData.Summary.isin(lstDuplicated)]\n",
        "\n",
        "# check that the length of the dataset is shorter by these instances\n",
        "print(len(dfClean.Summary))\n",
        "\n",
        "# as we can see, the number of instances is lower that the 41 instances identified. \n",
        "# this is simply because several of the instances have several duplicates that were\n",
        "# removed from this dataset"
      ],
      "metadata": {
        "colab": {
          "base_uri": "https://localhost:8080/"
        },
        "id": "_chQaP3eJmBx",
        "outputId": "5595a070-0b01-4a6d-ad5a-d8746c2f2f2f"
      },
      "execution_count": null,
      "outputs": [
        {
          "output_type": "stream",
          "name": "stdout",
          "text": [
            "934\n"
          ]
        }
      ]
    },
    {
      "cell_type": "code",
      "source": [
        "# for each of these data points, we check if these data points\n",
        "# are classified to different labels adn remove only the ones that have different labels\n",
        "for onePoint in lstDuplicated:\n",
        "  # find all instances of this datapoint\n",
        "  dfPoint = dfData[dfData.Summary == onePoint]\n",
        "\n",
        "  # now check if these data points have a different score\n",
        "  numLabels = len(dfPoint.Score.unique())\n",
        "\n",
        "  # if the number of labels is more than 1, then \n",
        "  # this means that we have noise in the dataset\n",
        "  # and we should remove this point\n",
        "  if numLabels > 1:\n",
        "    dfData.drop(dfData[dfData.Summary == onePoint].index, inplace=True)\n",
        "\n",
        "    # let's also print the data point that we remove\n",
        "    print(f'point: {onePoint}, number of labels: {len(dfPoint.Score.unique())}')"
      ],
      "metadata": {
        "colab": {
          "base_uri": "https://localhost:8080/"
        },
        "id": "lxY9YQfvGHft",
        "outputId": "6fb07aaa-ea6b-40db-e153-5afb53e358be"
      },
      "execution_count": null,
      "outputs": [
        {
          "output_type": "stream",
          "name": "stdout",
          "text": [
            "point: Delicious, number of labels: 2\n",
            "point: Delicious!, number of labels: 2\n",
            "point: Disappointed!, number of labels: 2\n",
            "point: Good chips, number of labels: 2\n",
            "point: Great, number of labels: 2\n",
            "point: Kettle Chips, number of labels: 2\n",
            "point: Tasty!, number of labels: 2\n",
            "point: Yummy chips, number of labels: 2\n",
            "point: delicious, number of labels: 2\n",
            "point: disappointing, number of labels: 2\n"
          ]
        }
      ]
    },
    {
      "cell_type": "code",
      "source": [
        "# finally, let's print the number of remaining data points\n",
        "# which do not contain noise\n",
        "print(f'Clean data points: {len(dfData.Summary)}')"
      ],
      "metadata": {
        "colab": {
          "base_uri": "https://localhost:8080/"
        },
        "id": "Fj3xC88cNZpq",
        "outputId": "772004c1-4c4d-439b-a6b2-4cc742f43562"
      },
      "execution_count": null,
      "outputs": [
        {
          "output_type": "stream",
          "name": "stdout",
          "text": [
            "Clean data points: 970\n"
          ]
        }
      ]
    }
  ]
}