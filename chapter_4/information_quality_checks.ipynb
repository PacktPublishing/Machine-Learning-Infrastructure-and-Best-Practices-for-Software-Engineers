{
 "cells": [
  {
   "attachments": {},
   "cell_type": "markdown",
   "metadata": {},
   "source": [
    "# This is the worksbook which checks the information quality. \n",
    "\n",
    "In this script we show how the information quality is visualized. "
   ]
  },
  {
   "cell_type": "markdown",
   "metadata": {},
   "source": [
    "## Configuration\n",
    "In the configuration section we need to define which information quality checks we perform. "
   ]
  },
  {
   "cell_type": "code",
   "execution_count": 1,
   "metadata": {},
   "outputs": [],
   "source": [
    "import matplotlib.pyplot as plt"
   ]
  },
  {
   "cell_type": "code",
   "execution_count": 2,
   "metadata": {},
   "outputs": [],
   "source": [
    "iq_problems_configuration_libraries = 0     # checks that the measurement instrument can be executed, i.e. problems with the libraries\n",
    "iq_problems_entity_access = 0               # checks that we can access the measured entity, in our case, this is the BugZilla database for WebKit\n",
    "iq_problems_timeliness = 0                  # checks that the data is fresh, i.e. not older than the previous measurement\n",
    "\n",
    "iq_general_error = 0                        # we need this generic error as sometimes the information_quality.log file can be misformed \n",
    "                                            # (e.g. from an aborted execution)\n",
    "                                            # for the sake of simplicity, we treat this as a flag -- 0 for no errors, 1 for any number of errors"
   ]
  },
  {
   "cell_type": "markdown",
   "metadata": {},
   "source": [
    "In this code, we parse the log file and extract the relevant information. Please note that this extraction is based on how we log information, not what information is logged. \n",
    "\n",
    "This is a design choice, which is linked to how I chose to handle the information quality in the measurement system -- I catch all exceptions and write the information that is important for this information quality system. "
   ]
  },
  {
   "cell_type": "code",
   "execution_count": 3,
   "metadata": {},
   "outputs": [],
   "source": [
    "try:\n",
    "    logFile = open(\"./information_quality_gerrit.log\", \"r\")\n",
    "\n",
    "    for logMessage in logFile:\n",
    "        # splitting the log information - again, this is linked to how we \n",
    "        # structured the log message in the measurement system    \n",
    "        logItem = logMessage.split(';')\n",
    "        logLevel = logItem[2]\n",
    "        logSource = logItem[1]\n",
    "        logTime = logItem[0]\n",
    "        logProblem = logItem[3]\n",
    "\n",
    "        # this part is about extracting the relevant information\n",
    "        # if this is a problem at all:\n",
    "        if (logLevel == 'ERROR'):\n",
    "\n",
    "            # if this is a problem with the library\n",
    "            if ('LIBRARIES' in logProblem):\n",
    "                iq_problems_configuration_libraries += 1\n",
    "\n",
    "            if ('TIMELINESS' in logProblem):\n",
    "                iq_problems_timeliness += 1\n",
    "            \n",
    "            if ('ENTITY_ACCESS' in logProblem):\n",
    "                iq_problems_entity_access += 1\n",
    "\n",
    "except Exception as e:\n",
    "    iq_general_error = 1"
   ]
  },
  {
   "cell_type": "code",
   "execution_count": 4,
   "metadata": {},
   "outputs": [
    {
     "name": "stdout",
     "output_type": "stream",
     "text": [
      "0\n",
      "0\n"
     ]
    }
   ],
   "source": [
    "print(iq_problems_configuration_libraries)\n",
    "print(iq_problems_timeliness)"
   ]
  },
  {
   "cell_type": "markdown",
   "metadata": {},
   "source": [
    "## Visualization\n",
    "\n",
    "Now we can visualize our information quality checks\n"
   ]
  },
  {
   "cell_type": "code",
   "execution_count": 5,
   "metadata": {},
   "outputs": [],
   "source": [
    "def getIndicatorColor(ind_value):\n",
    "    if ind_value > 0:\n",
    "        return 'red'\n",
    "    else:\n",
    "        return 'green'"
   ]
  },
  {
   "cell_type": "code",
   "execution_count": 6,
   "metadata": {},
   "outputs": [
    {
     "name": "stdout",
     "output_type": "stream",
     "text": [
      "Stakeholder information quality\n"
     ]
    },
    {
     "data": {
      "image/png": "[encoded data removed]",
      "text/plain": [
       "<Figure size 72x72 with 1 Axes>"
      ]
     },
     "metadata": {
      "needs_background": "light"
     },
     "output_type": "display_data"
    }
   ],
   "source": [
    "print('Stakeholder information quality')\n",
    "\n",
    "# Stakeholder information quality is red if any other IQ is red\n",
    "stakeholder_information_quality = iq_general_error + iq_problems_configuration_libraries + iq_problems_entity_access + iq_problems_timeliness\n",
    "\n",
    "fig, ax = plt.subplots(nrows=1, ncols=1, figsize=(1,1))\n",
    "ax.get_xaxis().set_visible(False)\n",
    "ax.get_yaxis().set_visible(False)\n",
    "ax.set_facecolor(getIndicatorColor(stakeholder_information_quality))"
   ]
  },
  {
   "cell_type": "code",
   "execution_count": 7,
   "metadata": {},
   "outputs": [
    {
     "name": "stdout",
     "output_type": "stream",
     "text": [
      "Libraries checks\n"
     ]
    },
    {
     "data": {
      "image/png": "[encoded data removed]",
      "text/plain": [
       "<Figure size 72x72 with 1 Axes>"
      ]
     },
     "metadata": {
      "needs_background": "light"
     },
     "output_type": "display_data"
    }
   ],
   "source": [
    "print('Libraries checks')\n",
    "\n",
    "fig, ax = plt.subplots(nrows=1, ncols=1, figsize=(1,1))\n",
    "ax.get_xaxis().set_visible(False)\n",
    "ax.get_yaxis().set_visible(False)\n",
    "ax.set_facecolor(getIndicatorColor(iq_problems_configuration_libraries))"
   ]
  },
  {
   "cell_type": "code",
   "execution_count": 8,
   "metadata": {},
   "outputs": [
    {
     "name": "stdout",
     "output_type": "stream",
     "text": [
      "Entity access checks\n"
     ]
    },
    {
     "data": {
      "image/png": "[encoded data removed]",
      "text/plain": [
       "<Figure size 72x72 with 1 Axes>"
      ]
     },
     "metadata": {
      "needs_background": "light"
     },
     "output_type": "display_data"
    }
   ],
   "source": [
    "print('Entity access checks')\n",
    "\n",
    "fig, ax = plt.subplots(nrows=1, ncols=1, figsize=(1,1))\n",
    "ax.get_xaxis().set_visible(False)\n",
    "ax.get_yaxis().set_visible(False)\n",
    "ax.set_facecolor(getIndicatorColor(iq_problems_entity_access))"
   ]
  },
  {
   "cell_type": "code",
   "execution_count": 9,
   "metadata": {},
   "outputs": [
    {
     "name": "stdout",
     "output_type": "stream",
     "text": [
      "Timeliness checks\n"
     ]
    },
    {
     "data": {
      "image/png": "[encoded data removed]",
      "text/plain": [
       "<Figure size 72x72 with 1 Axes>"
      ]
     },
     "metadata": {
      "needs_background": "light"
     },
     "output_type": "display_data"
    }
   ],
   "source": [
    "print('Timeliness checks')\n",
    "\n",
    "fig, ax = plt.subplots(nrows=1, ncols=1, figsize=(1,1))\n",
    "ax.get_xaxis().set_visible(False)\n",
    "ax.get_yaxis().set_visible(False)\n",
    "ax.set_facecolor(getIndicatorColor(iq_problems_timeliness))"
   ]
  },
  {
   "cell_type": "markdown",
   "metadata": {},
   "source": [
    "## Visualization in one table"
   ]
  },
  {
   "cell_type": "code",
   "execution_count": 21,
   "metadata": {},
   "outputs": [],
   "source": [
    "columns = ('Information quality check', 'Value')\n",
    "rows = ['Entity access check', 'Libraries']\n",
    "cell_text = [[f'Entity access: {iq_problems_entity_access}'], \n",
    "             [f'Libraries: {iq_problems_configuration_libraries}']]\n",
    "colors = [[getIndicatorColor(iq_problems_entity_access)],\n",
    "          [getIndicatorColor(iq_problems_configuration_libraries)]]\n"
   ]
  },
  {
   "cell_type": "code",
   "execution_count": 22,
   "metadata": {},
   "outputs": [
    {
     "data": {
      "image/png": "[encoded data removed]",
      "text/plain": [
       "<Figure size 432x288 with 1 Axes>"
      ]
     },
     "metadata": {
      "needs_background": "light"
     },
     "output_type": "display_data"
    }
   ],
   "source": [
    "fig, ax = plt.subplots()\n",
    "ax.axis('tight')\n",
    "ax.axis('off')\n",
    "the_table = ax.table(cellText=cell_text,\n",
    "                     cellColours=colors,\n",
    "                     colLabels=columns,\n",
    "                     loc='left')\n",
    "the_table.set_fontsize(18)\n",
    "the_table.scale(1, 2)\n",
    "plt.show()"
   ]
  },
  {
   "cell_type": "code",
   "execution_count": null,
   "metadata": {},
   "outputs": [],
   "source": []
  }
 ],
 "metadata": {
  "file_extension": ".py",
  "kernelspec": {
   "display_name": "Python 3",
   "language": "python",
   "name": "python3"
  },
  "language_info": {
   "codemirror_mode": {
    "name": "ipython",
    "version": 3
   },
   "file_extension": ".py",
   "mimetype": "text/x-python",
   "name": "python",
   "nbconvert_exporter": "python",
   "pygments_lexer": "ipython3",
   "version": "3.8.10"
  },
  "mimetype": "text/x-python",
  "name": "python",
  "npconvert_exporter": "python",
  "orig_nbformat": 2,
  "pygments_lexer": "ipython3",
  "version": 3,
  "vscode": {
   "interpreter": {
    "hash": "916dbcbb3f70747c44a77c7bcd40155683ae19c65e1c03b4aa3499c5328201f1"
   }
  }
 },
 "nbformat": 4,
 "nbformat_minor": 2
}
