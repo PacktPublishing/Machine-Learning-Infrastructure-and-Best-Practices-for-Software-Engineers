{
 "cells": [
  {
   "attachments": {},
   "cell_type": "markdown",
   "metadata": {},
   "source": [
    "# Gerrit exporter - Chapter 4\n",
    "\n",
    "This notebook shows how to export Gerrit data to a CSV file. The CSV file can be used to import the data into a database or used in a machine learning pipeline to train a model.\n",
    "\n"
   ]
  },
  {
   "attachments": {},
   "cell_type": "markdown",
   "metadata": {},
   "source": [
    "## Configuration\n",
    "\n",
    "Important imports that are needed to communicate with gerrit"
   ]
  },
  {
   "cell_type": "code",
   "execution_count": 18,
   "metadata": {},
   "outputs": [],
   "source": [
    "from requests.auth import HTTPDigestAuth\n",
    "from pygerrit2 import GerritRestAPI, HTTPBasicAuth\n",
    "from IPython.display import clear_output\n",
    "import requests\n",
    "import urllib\n",
    "\n",
    "# debug\n",
    "import pprint"
   ]
  },
  {
   "attachments": {},
   "cell_type": "markdown",
   "metadata": {},
   "source": [
    "## Exporting the data about changes\n",
    "\n",
    "The first entry point, which we need to use when parsing output from Gerrit, is the changes endpoint.\n",
    "\n",
    "It is a query that returns the list of changes as a JSON dictionary. \n",
    "\n",
    "We can then print this dictionary to see what it contains."
   ]
  },
  {
   "cell_type": "code",
   "execution_count": 13,
   "metadata": {},
   "outputs": [],
   "source": [
    "# A bit of config - repo\n",
    "gerrit_url = \"https://gerrit.onap.org/r\"\n",
    "fileName = \"./gerrit_reviews.csv\"\n",
    "\n",
    "# since we use a public oss repository, we don't need to authenticate\n",
    "auth = None\n",
    "\n",
    "# this line gets sets the parameters for the HTML API\n",
    "rest = GerritRestAPI(url=gerrit_url, auth = auth)\n",
    "\n",
    "# a set of parameters for the JSON API to get changes in batches of 500\n",
    "start = 0                       # which batch we start from - usually 0\n",
    "\n",
    "# the main query where we ask the endpoing to provide us the list and details of all changes\n",
    "# each change is essentially a review that has been submitted to the repository\n",
    "changes = rest.get(\"/changes/?q=status:merged&o=ALL_FILES&o=ALL_REVISIONS&o=DETAILED_LABELS&start={}\".format(start), \n",
    "                   headers={'Content-Type': 'application/json'})\n",
    "\n",
    "\n"
   ]
  },
  {
   "cell_type": "code",
   "execution_count": 19,
   "metadata": {},
   "outputs": [
    {
     "name": "stdout",
     "output_type": "stream",
     "text": [
      "{'_number': 132639,\n",
      " 'branch': 'master',\n",
      " 'change_id': 'I32ae2b500fb3db86da419feaa06e78995a88b43a',\n",
      " 'created': '2022-12-08 15:52:20.000000000',\n",
      " 'current_revision': '54f98a18f445d73478e1c3a3a09c70c2d6cea0be',\n",
      " 'deletions': 3,\n",
      " 'has_review_started': True,\n",
      " 'hashtags': [],\n",
      " 'id': 'ccsdk%2Fparent~master~I32ae2b500fb3db86da419feaa06e78995a88b43a',\n",
      " 'insertions': 3,\n",
      " 'labels': {'Code-Review': {'all': [{'_account_id': 459, 'value': 0},\n",
      "                                    {'_account_id': 87,\n",
      "                                     'date': '2022-12-08 17:45:38.000000000',\n",
      "                                     'permitted_voting_range': {'max': 2,\n",
      "                                                                'min': 2},\n",
      "                                     'value': 2}],\n",
      "                            'default_value': 0,\n",
      "                            'values': {' 0': 'No score',\n",
      "                                       '+1': 'Looks good to me, but someone '\n",
      "                                             'else must approve',\n",
      "                                       '+2': 'Looks good to me, approved',\n",
      "                                       '-1': 'I would prefer this is not '\n",
      "                                             'merged as is',\n",
      "                                       '-2': 'This shall not be merged'}},\n",
      "            'Verified': {'all': [{'_account_id': 459,\n",
      "                                  'date': '2022-12-08 15:56:21.000000000',\n",
      "                                  'permitted_voting_range': {'max': 1,\n",
      "                                                             'min': 1},\n",
      "                                  'value': 1},\n",
      "                                 {'_account_id': 87, 'value': 0}],\n",
      "                         'default_value': 0,\n",
      "                         'values': {' 0': 'No score',\n",
      "                                    '+1': 'Verified',\n",
      "                                    '-1': 'Fails'}}},\n",
      " 'owner': {'_account_id': 4931},\n",
      " 'pending_reviewers': {},\n",
      " 'project': 'ccsdk/parent',\n",
      " 'removable_reviewers': [],\n",
      " 'requirements': [],\n",
      " 'reviewers': {'REVIEWER': [{'_account_id': 87},\n",
      "                            {'_account_id': 459},\n",
      "                            {'_account_id': 865},\n",
      "                            {'_account_id': 1219},\n",
      "                            {'_account_id': 1443},\n",
      "                            {'_account_id': 4387},\n",
      "                            {'_account_id': 6218}]},\n",
      " 'revisions': {'54f98a18f445d73478e1c3a3a09c70c2d6cea0be': {'_number': 1,\n",
      "                                                            'created': '2022-12-08 '\n",
      "                                                                       '15:52:20.000000000',\n",
      "                                                            'fetch': {'anonymous http': {'ref': 'refs/changes/39/132639/1',\n",
      "                                                                                         'url': 'https://gerrit.onap.org/r/ccsdk/parent'}},\n",
      "                                                            'files': {'dependencies-odl-bom/pom.xml': {'lines_deleted': 1,\n",
      "                                                                                                       'lines_inserted': 1,\n",
      "                                                                                                       'size': 9170,\n",
      "                                                                                                       'size_delta': 0},\n",
      "                                                                      'oparent/pom.xml': {'lines_deleted': 1,\n",
      "                                                                                          'lines_inserted': 1,\n",
      "                                                                                          'size': 20925,\n",
      "                                                                                          'size_delta': 0},\n",
      "                                                                      'standalone/pom.xml': {'lines_deleted': 1,\n",
      "                                                                                             'lines_inserted': 1,\n",
      "                                                                                             'size': 18809,\n",
      "                                                                                             'size_delta': 0}},\n",
      "                                                            'kind': 'REWORK',\n",
      "                                                            'ref': 'refs/changes/39/132639/1',\n",
      "                                                            'uploader': {'_account_id': 4931}}},\n",
      " 'status': 'MERGED',\n",
      " 'subject': 'SDNC not starting',\n",
      " 'submission_id': '132639',\n",
      " 'submitted': '2022-12-08 17:45:42.000000000',\n",
      " 'submitter': {'_account_id': 87},\n",
      " 'total_comment_count': 0,\n",
      " 'unresolved_comment_count': 0,\n",
      " 'updated': '2023-01-03 13:33:16.000000000'}\n"
     ]
    }
   ],
   "source": [
    "# pretty printer for json files that the Gerrit API returns\n",
    "pp= pprint.PrettyPrinter(indent=1)\n",
    "\n",
    "pp.pprint(changes[0])"
   ]
  },
  {
   "attachments": {},
   "cell_type": "markdown",
   "metadata": {},
   "source": [
    "## What we see\n",
    "\n",
    "The above list is the set of all the changes in the project (well, only the 500 of these changes). We need to parse these changes in order to extract the review comments and similar. \n",
    "\n",
    "Please take a look at another notebook - gerrit_exporter_loop_comments - to see how to extract the comments from the changes."
   ]
  }
 ],
 "metadata": {
  "kernelspec": {
   "display_name": "Python 3",
   "language": "python",
   "name": "python3"
  },
  "language_info": {
   "codemirror_mode": {
    "name": "ipython",
    "version": 3
   },
   "file_extension": ".py",
   "mimetype": "text/x-python",
   "name": "python",
   "nbconvert_exporter": "python",
   "pygments_lexer": "ipython3",
   "version": "3.8.10 (default, Jun  2 2021, 10:49:15) \n[GCC 9.4.0]"
  },
  "vscode": {
   "interpreter": {
    "hash": "916dbcbb3f70747c44a77c7bcd40155683ae19c65e1c03b4aa3499c5328201f1"
   }
  }
 },
 "nbformat": 4,
 "nbformat_minor": 2
}
