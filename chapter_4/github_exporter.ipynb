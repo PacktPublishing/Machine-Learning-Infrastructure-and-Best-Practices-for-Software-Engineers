{
 "cells": [
  {
   "cell_type": "markdown",
   "metadata": {},
   "source": [
    "# Interacting with Github\n",
    "\n",
    "This script shows how to access files at github, extract their content and calculate diff between two revisions. \n",
    "\n",
    "The script uses the PyGithub library to access the Github API. The library is available at https://github.com/PyGithub/PyGithub and can be installed using pip."
   ]
  },
  {
   "cell_type": "code",
   "execution_count": null,
   "metadata": {},
   "outputs": [],
   "source": [
    "# import libraries\n",
    "import pandas as pd\n",
    "import numpy as np\n",
    "import matplotlib.pyplot as plt\n",
    "\n",
    "# library to access github api\n",
    "from github import Github"
   ]
  },
  {
   "cell_type": "code",
   "execution_count": 2,
   "metadata": {},
   "outputs": [],
   "source": [
    "# access file with my personal token\n",
    "with open('access_token.txt', 'r') as file:\n",
    "    token = file.read()"
   ]
  },
  {
   "cell_type": "code",
   "execution_count": 3,
   "metadata": {},
   "outputs": [],
   "source": [
    "# First create a Github instance:\n",
    "\n",
    "# using an access token\n",
    "g = Github(token, per_page=100)\n",
    "\n",
    "# get the repo for this book\n",
    "repo = g.get_repo(\"miroslawstaron/machine_learning_best_practices\")\n",
    "\n",
    "# get all commits\n",
    "commits = repo.get_commits()\n"
   ]
  },
  {
   "cell_type": "code",
   "execution_count": 4,
   "metadata": {},
   "outputs": [
    {
     "name": "stdout",
     "output_type": "stream",
     "text": [
      "Number of commits in this repo: 13\n",
      "The last commit message: Full information quality example\n"
     ]
    }
   ],
   "source": [
    "\n",
    "# print the number of commits\n",
    "print(f'Number of commits in this repo: {commits.totalCount}')\n",
    "\n",
    "# print the last commit\n",
    "print(f'The last commit message: {commits[0].commit.message}')"
   ]
  },
  {
   "cell_type": "code",
   "execution_count": 47,
   "metadata": {},
   "outputs": [
    {
     "name": "stdout",
     "output_type": "stream",
     "text": [
      "chapter_4/gerrit_reviews.csv\n"
     ]
    }
   ],
   "source": [
    "# print the names of all files in the commit\n",
    "# 0 means that we are looking at the latest commit\n",
    "print(commits[0].file)"
   ]
  },
  {
   "cell_type": "code",
   "execution_count": 48,
   "metadata": {},
   "outputs": [],
   "source": [
    "# get one of the file from the commit\n",
    "fileOne = commits[0].files[0]\n",
    "\n",
    "# get the file from the second commit\n",
    "fileTwo = commits[1].files[0]"
   ]
  },
  {
   "cell_type": "code",
   "execution_count": 50,
   "metadata": {},
   "outputs": [],
   "source": [
    "# to get the content of the file, we need to get the sha of the commit\n",
    "# otherwise we only get the content from the last commit\n",
    "fl = repo.get_contents(fileOne.filename, ref=commits[0].sha)\n",
    "fr = repo.get_contents(fileTwo.filename, ref=commits[1].sha)"
   ]
  },
  {
   "cell_type": "code",
   "execution_count": 53,
   "metadata": {},
   "outputs": [],
   "source": [
    "# read the file content, but decoded into strings\n",
    "# otherwise we would get the content in bytes\n",
    "linesOne = fl.decoded_content\n",
    "linesTwo = fr.decoded_content"
   ]
  },
  {
   "cell_type": "code",
   "execution_count": null,
   "metadata": {},
   "outputs": [],
   "source": [
    "# calculate the diff using difflib\n",
    "# for which we use a library difflib\n",
    "import difflib\n",
    "\n",
    "# print diff lines by iterating the list of lines \n",
    "# returned by the difflib library\n",
    "for line in difflib.unified_diff(str(linesOne), \n",
    "                                 str(linesTwo), \n",
    "                                 fromfile=fileOne.filename, \n",
    "                                 tofile=fileTwo.filename):\n",
    "  print(line)"
   ]
  }
 ],
 "metadata": {
  "kernelspec": {
   "display_name": "Python 3 (ipykernel)",
   "language": "python",
   "name": "python3"
  },
  "language_info": {
   "codemirror_mode": {
    "name": "ipython",
    "version": 3
   },
   "file_extension": ".py",
   "mimetype": "text/x-python",
   "name": "python",
   "nbconvert_exporter": "python",
   "pygments_lexer": "ipython3",
   "version": "3.9.12"
  },
  "vscode": {
   "interpreter": {
    "hash": "916dbcbb3f70747c44a77c7bcd40155683ae19c65e1c03b4aa3499c5328201f1"
   }
  }
 },
 "nbformat": 4,
 "nbformat_minor": 2
}
