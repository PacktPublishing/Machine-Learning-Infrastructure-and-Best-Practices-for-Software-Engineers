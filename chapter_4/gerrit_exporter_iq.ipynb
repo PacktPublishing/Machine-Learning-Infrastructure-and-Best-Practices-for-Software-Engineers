{
 "cells": [
  {
   "attachments": {},
   "cell_type": "markdown",
   "metadata": {},
   "source": [
    "# Gerrit exporter - Chapter 4\n",
    "\n",
    "This notebook shows how to export Gerrit data to a CSV file. The CSV file can be used to import the data into a database or used in a machine learning pipeline to train a model.\n",
    "\n",
    "This version of the notebook shows how to log the information quality to a log file. "
   ]
  },
  {
   "attachments": {},
   "cell_type": "markdown",
   "metadata": {},
   "source": [
    "## Configuration of the information quality checks\n",
    "\n",
    "First, we configure the information quality logs"
   ]
  },
  {
   "cell_type": "code",
   "execution_count": 3,
   "metadata": {},
   "outputs": [],
   "source": [
    "# now we add the logging to note whether something has actually gone wrong\n",
    "import logging\n",
    "\n",
    "# create a logging file\n",
    "# including the format of the log messages\n",
    "logging.basicConfig(filename='./information_quality_gerrit.log', \n",
    "                    filemode='w',\n",
    "                    format='%(asctime)s;%(name)s;%(levelname)s;%(message)s',\n",
    "                    level=logging.DEBUG)\n",
    "\n",
    "# specifying the name of the logger,\n",
    "# which will tell us that the message comes from this program\n",
    "# and not from any other modules or components imported\n",
    "logger = logging.getLogger('Gerrit export flow')\n",
    "\n",
    "# the first log message to indicate the start of the execution\n",
    "# it is important to add this, since the same log-file can be re-used\n",
    "# the re-use can be done by other components to provide one single point of logging\n",
    "logger.info('Configuration started')"
   ]
  },
  {
   "attachments": {},
   "cell_type": "markdown",
   "metadata": {},
   "source": [
    "## Configuration\n",
    "\n",
    "Important imports that are needed to communicate with gerrit"
   ]
  },
  {
   "cell_type": "code",
   "execution_count": 4,
   "metadata": {},
   "outputs": [
    {
     "name": "stderr",
     "output_type": "stream",
     "text": [
      "/usr/lib/python3/dist-packages/requests/__init__.py:89: RequestsDependencyWarning: urllib3 (1.26.14) or chardet (3.0.4) doesn't match a supported version!\n",
      "  warnings.warn(\"urllib3 ({}) or chardet ({}) doesn't match a supported \"\n"
     ]
    }
   ],
   "source": [
    "# in this example, we check that all the libraries are available\n",
    "# if they are, we do not log anything\n",
    "# but if they are not, we log an error message\n",
    "# in the information quality program, we will look for this kind of problems\n",
    "try:\n",
    "    from requests.auth import HTTPDigestAuth\n",
    "    from pygerrit2 import GerritRestAPI, HTTPBasicAuth\n",
    "    from IPython.display import clear_output\n",
    "    import requests\n",
    "    import urllib\n",
    "    # to simulate this error, we can use the following line (uncomment it)\n",
    "    # import library.that.does.not.exist\n",
    "except Exception as e:\n",
    "    logger.error(f'LIBRARIES: {e.msg}')\n",
    "\n",
    "# debug\n",
    "import pprint\n",
    "\n",
    "logger.info('Importing complete')"
   ]
  },
  {
   "attachments": {},
   "cell_type": "markdown",
   "metadata": {},
   "source": [
    "## Exporting the data about changes\n",
    "\n",
    "The first entry point, which we need to use when parsing output from Gerrit, is the changes endpoint.\n",
    "\n",
    "It is a query that returns the list of changes as a JSON dictionary. \n",
    "\n",
    "We can then print this dictionary to see what it contains."
   ]
  },
  {
   "cell_type": "code",
   "execution_count": 5,
   "metadata": {},
   "outputs": [],
   "source": [
    "# A bit of config - repo\n",
    "gerrit_url = \"https://gerrit.onap.org/r\"\n",
    "fileName = \"./gerrit_reviews.csv\"\n",
    "\n",
    "# since we use a public oss repository, we don't need to authenticate\n",
    "auth = None\n",
    "\n",
    "# this line gets sets the parameters for the HTML API\n",
    "rest = GerritRestAPI(url=gerrit_url, auth = auth)\n",
    "\n",
    "logger.info('REST API set-up complete')\n",
    "\n",
    "# a set of parameters for the JSON API to get changes in batches of 500\n",
    "start = 0                       # which batch we start from - usually 0\n",
    "\n",
    "logger.info('Connecting to Gerrit server and accessing changes')\n",
    "\n",
    "try: \n",
    "    # the main query where we ask the endpoing to provide us the list and details of all changes\n",
    "    # each change is essentially a review that has been submitted to the repository\n",
    "    changes = rest.get(\"/changes/?q=status:merged&o=ALL_FILES&o=ALL_REVISIONS&o=DETAILED_LABELS&start={}\".format(start), \n",
    "                       headers={'Content-Type': 'application/json'})\n",
    "except Exception as e:\n",
    "    logger.error('ENTITY ACCESS - Error retrieving changes: {}'.format(e))\n",
    "\n",
    "logger.info('Changes retrieved')\n"
   ]
  },
  {
   "cell_type": "code",
   "execution_count": 6,
   "metadata": {},
   "outputs": [
    {
     "name": "stdout",
     "output_type": "stream",
     "text": [
      "{'_number': 132912,\n",
      " 'branch': 'master',\n",
      " 'change_id': 'I418bd9e44304d617c0eb875008f8af5826692cfa',\n",
      " 'created': '2023-01-13 12:26:53.000000000',\n",
      " 'current_revision': 'b1125ecc1a211121d65b812dc85f028ad4f5fb31',\n",
      " 'deletions': 2,\n",
      " 'has_review_started': True,\n",
      " 'hashtags': [],\n",
      " 'id': 'dcaegen2%2Fcollectors%2Fdatafile~master~I418bd9e44304d617c0eb875008f8af5826692cfa',\n",
      " 'insertions': 5,\n",
      " 'labels': {'Code-Review': {'all': [{'_account_id': 105,\n",
      "                                     'date': '2023-01-14 03:21:23.000000000',\n",
      "                                     'permitted_voting_range': {'max': 2,\n",
      "                                                                'min': 2},\n",
      "                                     'value': 2},\n",
      "                                    {'_account_id': 459, 'value': 0}],\n",
      "                            'default_value': 0,\n",
      "                            'values': {' 0': 'No score',\n",
      "                                       '+1': 'Looks good to me, but someone '\n",
      "                                             'else must approve',\n",
      "                                       '+2': 'Looks good to me, approved',\n",
      "                                       '-1': 'I would prefer this is not '\n",
      "                                             'merged as is',\n",
      "                                       '-2': 'This shall not be merged'}},\n",
      "            'Verified': {'all': [{'_account_id': 105, 'value': 0},\n",
      "                                 {'_account_id': 459,\n",
      "                                  'date': '2023-01-13 13:07:00.000000000',\n",
      "                                  'permitted_voting_range': {'max': 1,\n",
      "                                                             'min': 1},\n",
      "                                  'value': 1}],\n",
      "                         'default_value': 0,\n",
      "                         'values': {' 0': 'No score',\n",
      "                                    '+1': 'Verified',\n",
      "                                    '-1': 'Fails'}}},\n",
      " 'owner': {'_account_id': 8243},\n",
      " 'pending_reviewers': {},\n",
      " 'project': 'dcaegen2/collectors/datafile',\n",
      " 'removable_reviewers': [],\n",
      " 'requirements': [],\n",
      " 'reviewers': {'REVIEWER': [{'_account_id': 93},\n",
      "                            {'_account_id': 105},\n",
      "                            {'_account_id': 459},\n",
      "                            {'_account_id': 511},\n",
      "                            {'_account_id': 6044},\n",
      "                            {'_account_id': 6310},\n",
      "                            {'_account_id': 8040}]},\n",
      " 'revisions': {'b1125ecc1a211121d65b812dc85f028ad4f5fb31': {'_number': 2,\n",
      "                                                            'created': '2023-01-13 '\n",
      "                                                                       '13:02:41.000000000',\n",
      "                                                            'fetch': {'anonymous http': {'ref': 'refs/changes/12/132912/2',\n",
      "                                                                                         'url': 'https://gerrit.onap.org/r/dcaegen2/collectors/datafile'}},\n",
      "                                                            'files': {'datafile-app-server/src/test/java/org/onap/dcaegen2/collectors/datafile/configuration/AppConfigTest.java': {'lines_deleted': 2,\n",
      "                                                                                                                                                                                   'lines_inserted': 5,\n",
      "                                                                                                                                                                                   'size': 15352,\n",
      "                                                                                                                                                                                   'size_delta': 156}},\n",
      "                                                            'kind': 'REWORK',\n",
      "                                                            'ref': 'refs/changes/12/132912/2',\n",
      "                                                            'uploader': {'_account_id': 8243}},\n",
      "               'db21be34c15943088f1764c3ff53eae06cbf08af': {'_number': 1,\n",
      "                                                            'created': '2023-01-13 '\n",
      "                                                                       '12:26:53.000000000',\n",
      "                                                            'fetch': {'anonymous http': {'ref': 'refs/changes/12/132912/1',\n",
      "                                                                                         'url': 'https://gerrit.onap.org/r/dcaegen2/collectors/datafile'}},\n",
      "                                                            'files': {'datafile-app-server/src/test/java/org/onap/dcaegen2/collectors/datafile/configuration/AppConfigTest.java': {'lines_deleted': 2,\n",
      "                                                                                                                                                                                   'lines_inserted': 4,\n",
      "                                                                                                                                                                                   'size': 15288,\n",
      "                                                                                                                                                                                   'size_delta': 92}},\n",
      "                                                            'kind': 'REWORK',\n",
      "                                                            'ref': 'refs/changes/12/132912/1',\n",
      "                                                            'uploader': {'_account_id': 8243}}},\n",
      " 'status': 'MERGED',\n",
      " 'subject': '[DCAEGEN2] Enhance a junit '\n",
      "            'AppConfigTest::checkCorrectConsumerConfiguration',\n",
      " 'submission_id': '132912',\n",
      " 'submitted': '2023-01-14 03:21:26.000000000',\n",
      " 'submitter': {'_account_id': 105},\n",
      " 'total_comment_count': 0,\n",
      " 'unresolved_comment_count': 0,\n",
      " 'updated': '2023-01-14 03:26:10.000000000'}\n"
     ]
    }
   ],
   "source": [
    "# pretty printer for json files that the Gerrit API returns\n",
    "pp= pprint.PrettyPrinter(indent=1)\n",
    "\n",
    "pp.pprint(changes[0])\n",
    "\n",
    "logger.info('Execution complete')"
   ]
  },
  {
   "attachments": {},
   "cell_type": "markdown",
   "metadata": {},
   "source": [
    "## What we see\n",
    "\n",
    "The above list is the set of all the changes in the project (well, only the 500 of these changes). We need to parse these changes in order to extract the review comments and similar. \n",
    "\n",
    "Please take a look at another notebook - gerrit_exporter_loop_comments - to see how to extract the comments from the changes."
   ]
  }
 ],
 "metadata": {
  "kernelspec": {
   "display_name": "Python 3",
   "language": "python",
   "name": "python3"
  },
  "language_info": {
   "codemirror_mode": {
    "name": "ipython",
    "version": 3
   },
   "file_extension": ".py",
   "mimetype": "text/x-python",
   "name": "python",
   "nbconvert_exporter": "python",
   "pygments_lexer": "ipython3",
   "version": "3.8.10"
  },
  "vscode": {
   "interpreter": {
    "hash": "916dbcbb3f70747c44a77c7bcd40155683ae19c65e1c03b4aa3499c5328201f1"
   }
  }
 },
 "nbformat": 4,
 "nbformat_minor": 2
}
